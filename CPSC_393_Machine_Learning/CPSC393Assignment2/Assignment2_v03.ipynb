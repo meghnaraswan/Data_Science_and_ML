{
 "cells": [
  {
   "cell_type": "code",
   "execution_count": 104,
   "metadata": {},
   "outputs": [],
   "source": [
    "import numpy as np\n",
    "import tensorflow as tf\n",
    "from tensorflow import keras\n",
    "from tensorflow.keras import layers\n",
    "from tensorflow.keras import optimizers\n",
    "from keras.datasets import imdb\n",
    "from keras.datasets import reuters\n",
    "from keras.datasets import boston_housing\n",
    "from keras import models\n",
    "from keras import layers\n",
    "from keras import optimizers\n",
    "from keras.optimizer_v2 import rmsprop as rmsprop_v2\n",
    "from tensorflow import keras\n",
    "from keras import optimizers\n",
    "from keras import losses\n",
    "from keras import metrics\n",
    "import matplotlib.pyplot as plt\n",
    "# optimizer=keras.optimizers.RMSprop(learning_rate=0.01)"
   ]
  },
  {
   "cell_type": "markdown",
   "metadata": {},
   "source": [
    "## Classifying movie reviews: a binary classification example\n",
    "### The IMDB dataset"
   ]
  },
  {
   "cell_type": "code",
   "execution_count": 105,
   "metadata": {},
   "outputs": [],
   "source": [
    "# Loading the IMDB dataset\n",
    "# IMDB dataset: a set of 50,000 highly polarized reviews from the\n",
    "    # Internet Movie Database. They’re split into 25,000 reviews for training and 25,000\n",
    "    # reviews for testing, each set consisting of 50% negative and 50% positive reviews\n",
    "# Argument num_words = 10000 means we will only keep the top 10,000 most frequently occurring words in the training data. \n",
    "    # Rare words will be discarded. \n",
    "    # This allows us to work with vector data of manageable size.\n",
    "# train_labels and test_labels are lists of 0s and 1s, \n",
    "    # 0: negative\n",
    "    # 1: positive:\n",
    "(train_data, train_labels), (test_data, test_labels) = imdb.load_data(num_words=10000)"
   ]
  },
  {
   "cell_type": "code",
   "execution_count": 106,
   "metadata": {},
   "outputs": [
    {
     "data": {
      "text/plain": [
       "[1,\n",
       " 14,\n",
       " 22,\n",
       " 16,\n",
       " 43,\n",
       " 530,\n",
       " 973,\n",
       " 1622,\n",
       " 1385,\n",
       " 65,\n",
       " 458,\n",
       " 4468,\n",
       " 66,\n",
       " 3941,\n",
       " 4,\n",
       " 173,\n",
       " 36,\n",
       " 256,\n",
       " 5,\n",
       " 25,\n",
       " 100,\n",
       " 43,\n",
       " 838,\n",
       " 112,\n",
       " 50,\n",
       " 670,\n",
       " 2,\n",
       " 9,\n",
       " 35,\n",
       " 480,\n",
       " 284,\n",
       " 5,\n",
       " 150,\n",
       " 4,\n",
       " 172,\n",
       " 112,\n",
       " 167,\n",
       " 2,\n",
       " 336,\n",
       " 385,\n",
       " 39,\n",
       " 4,\n",
       " 172,\n",
       " 4536,\n",
       " 1111,\n",
       " 17,\n",
       " 546,\n",
       " 38,\n",
       " 13,\n",
       " 447,\n",
       " 4,\n",
       " 192,\n",
       " 50,\n",
       " 16,\n",
       " 6,\n",
       " 147,\n",
       " 2025,\n",
       " 19,\n",
       " 14,\n",
       " 22,\n",
       " 4,\n",
       " 1920,\n",
       " 4613,\n",
       " 469,\n",
       " 4,\n",
       " 22,\n",
       " 71,\n",
       " 87,\n",
       " 12,\n",
       " 16,\n",
       " 43,\n",
       " 530,\n",
       " 38,\n",
       " 76,\n",
       " 15,\n",
       " 13,\n",
       " 1247,\n",
       " 4,\n",
       " 22,\n",
       " 17,\n",
       " 515,\n",
       " 17,\n",
       " 12,\n",
       " 16,\n",
       " 626,\n",
       " 18,\n",
       " 2,\n",
       " 5,\n",
       " 62,\n",
       " 386,\n",
       " 12,\n",
       " 8,\n",
       " 316,\n",
       " 8,\n",
       " 106,\n",
       " 5,\n",
       " 4,\n",
       " 2223,\n",
       " 5244,\n",
       " 16,\n",
       " 480,\n",
       " 66,\n",
       " 3785,\n",
       " 33,\n",
       " 4,\n",
       " 130,\n",
       " 12,\n",
       " 16,\n",
       " 38,\n",
       " 619,\n",
       " 5,\n",
       " 25,\n",
       " 124,\n",
       " 51,\n",
       " 36,\n",
       " 135,\n",
       " 48,\n",
       " 25,\n",
       " 1415,\n",
       " 33,\n",
       " 6,\n",
       " 22,\n",
       " 12,\n",
       " 215,\n",
       " 28,\n",
       " 77,\n",
       " 52,\n",
       " 5,\n",
       " 14,\n",
       " 407,\n",
       " 16,\n",
       " 82,\n",
       " 2,\n",
       " 8,\n",
       " 4,\n",
       " 107,\n",
       " 117,\n",
       " 5952,\n",
       " 15,\n",
       " 256,\n",
       " 4,\n",
       " 2,\n",
       " 7,\n",
       " 3766,\n",
       " 5,\n",
       " 723,\n",
       " 36,\n",
       " 71,\n",
       " 43,\n",
       " 530,\n",
       " 476,\n",
       " 26,\n",
       " 400,\n",
       " 317,\n",
       " 46,\n",
       " 7,\n",
       " 4,\n",
       " 2,\n",
       " 1029,\n",
       " 13,\n",
       " 104,\n",
       " 88,\n",
       " 4,\n",
       " 381,\n",
       " 15,\n",
       " 297,\n",
       " 98,\n",
       " 32,\n",
       " 2071,\n",
       " 56,\n",
       " 26,\n",
       " 141,\n",
       " 6,\n",
       " 194,\n",
       " 7486,\n",
       " 18,\n",
       " 4,\n",
       " 226,\n",
       " 22,\n",
       " 21,\n",
       " 134,\n",
       " 476,\n",
       " 26,\n",
       " 480,\n",
       " 5,\n",
       " 144,\n",
       " 30,\n",
       " 5535,\n",
       " 18,\n",
       " 51,\n",
       " 36,\n",
       " 28,\n",
       " 224,\n",
       " 92,\n",
       " 25,\n",
       " 104,\n",
       " 4,\n",
       " 226,\n",
       " 65,\n",
       " 16,\n",
       " 38,\n",
       " 1334,\n",
       " 88,\n",
       " 12,\n",
       " 16,\n",
       " 283,\n",
       " 5,\n",
       " 16,\n",
       " 4472,\n",
       " 113,\n",
       " 103,\n",
       " 32,\n",
       " 15,\n",
       " 16,\n",
       " 5345,\n",
       " 19,\n",
       " 178,\n",
       " 32]"
      ]
     },
     "execution_count": 106,
     "metadata": {},
     "output_type": "execute_result"
    }
   ],
   "source": [
    "train_data[0]"
   ]
  },
  {
   "cell_type": "code",
   "execution_count": 107,
   "metadata": {},
   "outputs": [
    {
     "data": {
      "text/plain": [
       "1"
      ]
     },
     "execution_count": 107,
     "metadata": {},
     "output_type": "execute_result"
    }
   ],
   "source": [
    "train_labels[0]"
   ]
  },
  {
   "cell_type": "code",
   "execution_count": 108,
   "metadata": {},
   "outputs": [
    {
     "data": {
      "text/plain": [
       "9999"
      ]
     },
     "execution_count": 108,
     "metadata": {},
     "output_type": "execute_result"
    }
   ],
   "source": [
    "# Because we are restricting ourselves to the top 10,000 most frequent words, \n",
    "    # no word index will exceed 10,000:\n",
    "max([max(sequence) for sequence in train_data])"
   ]
  },
  {
   "cell_type": "code",
   "execution_count": 110,
   "metadata": {},
   "outputs": [],
   "source": [
    "# Encoding the integer sequences into a binary matrix\n",
    "    # can’t feed lists of integers into a neural network, so we turn the lists into tensors by:\n",
    "        # Pad the lists so that they all have the same length, turn them into an integer \n",
    "            # tensor of shape (samples, word_indices), and then use as the first layer in\n",
    "            # the network a layer capable of handling such integer tensors \n",
    "        # One-hot encode the lists to turn them into vectors of 0s and 1s. Then we could use as the \n",
    "            # first layer in the network a Dense layer, capable of handling floating-point vector data\n",
    "    # we will go with second option to vectorize the data\n",
    "def vectorize_sequences(sequences, dimension=10000): \n",
    "    results = np.zeros((len(sequences), dimension)) # Creates an all-zero matrix of shape (len(sequences), dimension)\n",
    "    for i, sequence in enumerate(sequences): # Sets specific indices of results[i] to 1s\n",
    "        results[i, sequence] = 1.\n",
    "    return results\n",
    "x_train = vectorize_sequences(train_data) # Vectorized training data\n",
    "x_test = vectorize_sequences(test_data) # Vectorized test data"
   ]
  },
  {
   "cell_type": "code",
   "execution_count": 111,
   "metadata": {},
   "outputs": [
    {
     "data": {
      "text/plain": [
       "array([0., 1., 1., ..., 0., 0., 0.])"
      ]
     },
     "execution_count": 111,
     "metadata": {},
     "output_type": "execute_result"
    }
   ],
   "source": [
    "x_train[0]"
   ]
  },
  {
   "cell_type": "code",
   "execution_count": 113,
   "metadata": {},
   "outputs": [],
   "source": [
    "# vectorize the labels\n",
    "y_train = np.asarray(train_labels).astype('float32')\n",
    "y_test = np.asarray(test_labels).astype('float32')"
   ]
  },
  {
   "cell_type": "code",
   "execution_count": 114,
   "metadata": {},
   "outputs": [],
   "source": [
    "model = models.Sequential()\n",
    "model.add(layers.Dense(16, activation='relu', input_shape=(10000,)))\n",
    "model.add(layers.Dense(16, activation='relu'))\n",
    "model.add(layers.Dense(1, activation='sigmoid'))"
   ]
  },
  {
   "cell_type": "code",
   "execution_count": 117,
   "metadata": {},
   "outputs": [],
   "source": [
    "# Compiling the model\n",
    "model.compile(optimizer='rmsprop', loss='binary_crossentropy', metrics=['accuracy'])"
   ]
  },
  {
   "cell_type": "code",
   "execution_count": 118,
   "metadata": {},
   "outputs": [],
   "source": [
    "# Configuring the optimizer\n",
    "# optimizer=keras.optimizers.RMSprop(learning_rate=0.01)\n",
    "model.compile(optimizer=keras.optimizers.RMSprop(learning_rate=0.001), loss='binary_crossentropy', metrics=['accuracy'])"
   ]
  },
  {
   "cell_type": "code",
   "execution_count": 119,
   "metadata": {},
   "outputs": [],
   "source": [
    "# Using custom losses and metrics\n",
    "model.compile(optimizer=keras.optimizers.RMSprop(learning_rate=0.001), loss=keras.losses.binary_crossentropy, metrics=[keras.metrics.binary_accuracy])"
   ]
  },
  {
   "cell_type": "code",
   "execution_count": 120,
   "metadata": {},
   "outputs": [],
   "source": [
    "# Setting aside a validation set\n",
    "x_val = x_train[:10000]\n",
    "partial_x_train = x_train[10000:]\n",
    "y_val = y_train[:10000]\n",
    "partial_y_train = y_train[10000:]"
   ]
  },
  {
   "cell_type": "code",
   "execution_count": 121,
   "metadata": {},
   "outputs": [
    {
     "name": "stdout",
     "output_type": "stream",
     "text": [
      "Epoch 1/20\n",
      "30/30 [==============================] - 9s 198ms/step - loss: 0.5237 - acc: 0.7755 - val_loss: 0.4124 - val_acc: 0.8548\n",
      "Epoch 2/20\n",
      "30/30 [==============================] - 2s 67ms/step - loss: 0.3138 - acc: 0.9030 - val_loss: 0.3182 - val_acc: 0.8843\n",
      "Epoch 3/20\n",
      "30/30 [==============================] - 1s 47ms/step - loss: 0.2298 - acc: 0.9289 - val_loss: 0.2855 - val_acc: 0.8882\n",
      "Epoch 4/20\n",
      "30/30 [==============================] - 1s 45ms/step - loss: 0.1789 - acc: 0.9425 - val_loss: 0.2789 - val_acc: 0.8888\n",
      "Epoch 5/20\n",
      "30/30 [==============================] - 2s 56ms/step - loss: 0.1476 - acc: 0.9553 - val_loss: 0.2830 - val_acc: 0.8885\n",
      "Epoch 6/20\n",
      "30/30 [==============================] - 1s 38ms/step - loss: 0.1172 - acc: 0.9671 - val_loss: 0.3130 - val_acc: 0.8756\n",
      "Epoch 7/20\n",
      "30/30 [==============================] - 2s 53ms/step - loss: 0.1007 - acc: 0.9713 - val_loss: 0.3082 - val_acc: 0.8826\n",
      "Epoch 8/20\n",
      "30/30 [==============================] - 2s 55ms/step - loss: 0.0811 - acc: 0.9787 - val_loss: 0.3354 - val_acc: 0.8823\n",
      "Epoch 9/20\n",
      "30/30 [==============================] - 1s 50ms/step - loss: 0.0652 - acc: 0.9850 - val_loss: 0.3571 - val_acc: 0.8810\n",
      "Epoch 10/20\n",
      "30/30 [==============================] - 2s 53ms/step - loss: 0.0563 - acc: 0.9874 - val_loss: 0.3721 - val_acc: 0.8790\n",
      "Epoch 11/20\n",
      "30/30 [==============================] - 3s 95ms/step - loss: 0.0432 - acc: 0.9915 - val_loss: 0.4234 - val_acc: 0.8757\n",
      "Epoch 12/20\n",
      "30/30 [==============================] - 5s 159ms/step - loss: 0.0364 - acc: 0.9928 - val_loss: 0.4648 - val_acc: 0.8692\n",
      "Epoch 13/20\n",
      "30/30 [==============================] - 4s 131ms/step - loss: 0.0284 - acc: 0.9958 - val_loss: 0.4554 - val_acc: 0.8727\n",
      "Epoch 14/20\n",
      "30/30 [==============================] - 5s 162ms/step - loss: 0.0240 - acc: 0.9957 - val_loss: 0.5010 - val_acc: 0.8704\n",
      "Epoch 15/20\n",
      "30/30 [==============================] - 3s 116ms/step - loss: 0.0208 - acc: 0.9959 - val_loss: 0.5115 - val_acc: 0.8674\n",
      "Epoch 16/20\n",
      "30/30 [==============================] - 3s 116ms/step - loss: 0.0155 - acc: 0.9979 - val_loss: 0.5445 - val_acc: 0.8714\n",
      "Epoch 17/20\n",
      "30/30 [==============================] - 3s 109ms/step - loss: 0.0133 - acc: 0.9981 - val_loss: 0.5701 - val_acc: 0.8700\n",
      "Epoch 18/20\n",
      "30/30 [==============================] - 3s 100ms/step - loss: 0.0074 - acc: 0.9994 - val_loss: 0.6087 - val_acc: 0.8617\n",
      "Epoch 19/20\n",
      "30/30 [==============================] - 3s 92ms/step - loss: 0.0093 - acc: 0.9985 - val_loss: 0.6327 - val_acc: 0.8682\n",
      "Epoch 20/20\n",
      "30/30 [==============================] - 3s 100ms/step - loss: 0.0044 - acc: 0.9995 - val_loss: 0.7384 - val_acc: 0.8633\n"
     ]
    }
   ],
   "source": [
    "# model for 20 epochs (20 iterations over all samples in the x_train and y_train tensors), \n",
    "    # in mini-batches of 512 samples. At the same time, monitor loss and accuracy on the 10,000 \n",
    "    # samples that we set apart by passing the validation data as the validation_data argument.\n",
    "# training model\n",
    "model.compile(optimizer='rmsprop', loss='binary_crossentropy', metrics=['acc'])\n",
    "history = model.fit(partial_x_train, partial_y_train, epochs=20, batch_size=512, validation_data=(x_val, y_val))"
   ]
  },
  {
   "cell_type": "code",
   "execution_count": 122,
   "metadata": {},
   "outputs": [
    {
     "data": {
      "text/plain": [
       "dict_keys(['loss', 'acc', 'val_loss', 'val_acc'])"
      ]
     },
     "execution_count": 122,
     "metadata": {},
     "output_type": "execute_result"
    }
   ],
   "source": [
    "# the call to model.fit() returns a History object. This object has a member history, \n",
    "    # which is a dictionary containing data about everything that happened during training\n",
    "history_dict = history.history\n",
    "history_dict.keys()"
   ]
  },
  {
   "cell_type": "code",
   "execution_count": 123,
   "metadata": {},
   "outputs": [
    {
     "data": {
      "image/png": "[encoded data removed]",
      "text/plain": [
       "<Figure size 432x288 with 1 Axes>"
      ]
     },
     "metadata": {
      "needs_background": "light"
     },
     "output_type": "display_data"
    }
   ],
   "source": [
    "# Plotting the training and validation loss\n",
    "history_dict = history.history\n",
    "acc_values = history_dict['acc']\n",
    "loss_values = history_dict['loss']\n",
    "val_loss_values = history_dict['val_loss']\n",
    "epochs = range(1, len(acc_values) + 1)\n",
    "plt.plot(epochs, loss_values, 'bo', label='Training loss') # “bo” is for “blue dot.”\n",
    "plt.plot(epochs, val_loss_values, 'b', label='Validation loss') # “b” is for “solid blue line.”\n",
    "plt.title('Training and validation loss')\n",
    "plt.xlabel('Epochs')\n",
    "plt.ylabel('Loss')\n",
    "plt.legend()\n",
    "plt.show()\n",
    "# training loss decreases with every epoch,"
   ]
  },
  {
   "cell_type": "code",
   "execution_count": 124,
   "metadata": {},
   "outputs": [
    {
     "data": {
      "image/png": "[encoded data removed]",
      "text/plain": [
       "<Figure size 432x288 with 1 Axes>"
      ]
     },
     "metadata": {
      "needs_background": "light"
     },
     "output_type": "display_data"
    }
   ],
   "source": [
    "# Plotting the training and validation accuracy\n",
    "plt.clf() # Clears the figure\n",
    "acc_values = history_dict['acc']\n",
    "val_acc_values = history_dict['val_acc']\n",
    "plt.plot(epochs, acc_values, 'bo', label='Training acc')\n",
    "plt.plot(epochs, val_acc_values, 'b', label='Validation acc')\n",
    "plt.title('Training and validation accuracy')\n",
    "plt.xlabel('Epochs')\n",
    "plt.ylabel('Loss')\n",
    "plt.legend()\n",
    "plt.show()\n",
    "# training accuracy increases with every epoch\n",
    "# That’s what you would expect when running gradient descent optimization—the quantity you’re trying to \n",
    "    # minimize should be less with every iteration\n",
    "# overfitting: model that performs better on the training data isn’t necessarily a model that will do\n",
    "    # better on data it has never seen before"
   ]
  },
  {
   "cell_type": "code",
   "execution_count": 125,
   "metadata": {},
   "outputs": [
    {
     "name": "stdout",
     "output_type": "stream",
     "text": [
      "Epoch 1/4\n",
      "49/49 [==============================] - 4s 50ms/step - loss: 0.4856 - accuracy: 0.8027 1s - ETA: 0s - loss: 0.5346 \n",
      "Epoch 2/4\n",
      "49/49 [==============================] - 1s 28ms/step - loss: 0.2759 - accuracy: 0.9084\n",
      "Epoch 3/4\n",
      "49/49 [==============================] - 2s 39ms/step - loss: 0.2100 - accuracy: 0.9271\n",
      "Epoch 4/4\n",
      "49/49 [==============================] - 1s 27ms/step - loss: 0.1746 - accuracy: 0.9384\n",
      "782/782 [==============================] - 5s 6ms/step - loss: 0.2896 - accuracy: 0.8859\n"
     ]
    }
   ],
   "source": [
    "# we want to prevent overfitting, so we will train a new network from scratch for four epochs \n",
    "    # and then evaluate it on the test data\n",
    "# Retraining a model from scratch\n",
    "model = models.Sequential()\n",
    "model.add(layers.Dense(16, activation='relu', input_shape=(10000,)))\n",
    "model.add(layers.Dense(16, activation='relu'))\n",
    "model.add(layers.Dense(1, activation='sigmoid'))\n",
    "model.compile(optimizer='rmsprop', loss='binary_crossentropy', metrics=['accuracy'])\n",
    "model.fit(x_train, y_train, epochs=4, batch_size=512)\n",
    "results = model.evaluate(x_test, y_test)"
   ]
  },
  {
   "cell_type": "code",
   "execution_count": 126,
   "metadata": {},
   "outputs": [
    {
     "data": {
      "text/plain": [
       "[0.289615660905838, 0.885919988155365]"
      ]
     },
     "execution_count": 126,
     "metadata": {},
     "output_type": "execute_result"
    }
   ],
   "source": [
    "# This naive approach achieves an accuracy of 88%\n",
    "results"
   ]
  },
  {
   "cell_type": "code",
   "execution_count": 128,
   "metadata": {},
   "outputs": [
    {
     "data": {
      "text/plain": [
       "array([[0.16103536],\n",
       "       [0.9980242 ],\n",
       "       [0.84311616],\n",
       "       ...,\n",
       "       [0.13672844],\n",
       "       [0.06350344],\n",
       "       [0.5081781 ]], dtype=float32)"
      ]
     },
     "execution_count": 128,
     "metadata": {},
     "output_type": "execute_result"
    }
   ],
   "source": [
    "# network is confident for some samples (0.99 or more, or 0.09 or\n",
    "    # less) but less confident for others (0.7)\n",
    "model.predict(x_test)"
   ]
  },
  {
   "cell_type": "code",
   "execution_count": 129,
   "metadata": {},
   "outputs": [
    {
     "name": "stdout",
     "output_type": "stream",
     "text": [
      "Epoch 1/4\n",
      "49/49 [==============================] - 5s 52ms/step - loss: 0.4522 - accuracy: 0.8297\n",
      "Epoch 2/4\n",
      "49/49 [==============================] - 1s 30ms/step - loss: 0.2804 - accuracy: 0.9070\n",
      "Epoch 3/4\n",
      "49/49 [==============================] - 2s 31ms/step - loss: 0.2219 - accuracy: 0.9250\n",
      "Epoch 4/4\n",
      "49/49 [==============================] - 2s 38ms/step - loss: 0.1882 - accuracy: 0.9360\n",
      "782/782 [==============================] - 7s 9ms/step - loss: 0.2796 - accuracy: 0.8885\n"
     ]
    }
   ],
   "source": [
    "# we want to prevent overfitting, so we will train a new network from scratch for four epochs \n",
    "    # and then evaluate it on the test data\n",
    "# Retraining a model from scratch\n",
    "model = models.Sequential()\n",
    "model.add(layers.Dense(16, activation='relu', input_shape=(10000,)))\n",
    "# model.add(layers.Dense(16, activation='relu'))\n",
    "model.add(layers.Dense(1, activation='sigmoid'))\n",
    "model.compile(optimizer='rmsprop', loss='binary_crossentropy', metrics=['accuracy'])\n",
    "model.fit(x_train, y_train, epochs=4, batch_size=512)\n",
    "results = model.evaluate(x_test, y_test)"
   ]
  },
  {
   "cell_type": "code",
   "execution_count": 130,
   "metadata": {},
   "outputs": [
    {
     "data": {
      "text/plain": [
       "[0.2796395719051361, 0.8885200023651123]"
      ]
     },
     "execution_count": 130,
     "metadata": {},
     "output_type": "execute_result"
    }
   ],
   "source": [
    "results"
   ]
  },
  {
   "cell_type": "code",
   "execution_count": 131,
   "metadata": {},
   "outputs": [
    {
     "name": "stdout",
     "output_type": "stream",
     "text": [
      "Epoch 1/4\n",
      "49/49 [==============================] - 4s 48ms/step - loss: 0.4596 - accuracy: 0.8120\n",
      "Epoch 2/4\n",
      "49/49 [==============================] - 2s 40ms/step - loss: 0.2565 - accuracy: 0.9092\n",
      "Epoch 3/4\n",
      "49/49 [==============================] - 2s 34ms/step - loss: 0.1958 - accuracy: 0.9295\n",
      "Epoch 4/4\n",
      "49/49 [==============================] - 2s 32ms/step - loss: 0.1640 - accuracy: 0.9406\n",
      "782/782 [==============================] - 5s 6ms/step - loss: 0.3386 - accuracy: 0.8715\n"
     ]
    }
   ],
   "source": [
    "# we want to prevent overfitting, so we will train a new network from scratch for four epochs \n",
    "    # and then evaluate it on the test data\n",
    "# Retraining a model from scratch\n",
    "model = models.Sequential()\n",
    "model.add(layers.Dense(16, activation='relu', input_shape=(10000,)))\n",
    "model.add(layers.Dense(16, activation='relu'))\n",
    "model.add(layers.Dense(16, activation='relu'))\n",
    "model.add(layers.Dense(1, activation='sigmoid'))\n",
    "model.compile(optimizer='rmsprop', loss='binary_crossentropy', metrics=['accuracy'])\n",
    "model.fit(x_train, y_train, epochs=4, batch_size=512)\n",
    "results = model.evaluate(x_test, y_test)"
   ]
  },
  {
   "cell_type": "code",
   "execution_count": 132,
   "metadata": {},
   "outputs": [
    {
     "data": {
      "text/plain": [
       "[0.3386026620864868, 0.8715199828147888]"
      ]
     },
     "execution_count": 132,
     "metadata": {},
     "output_type": "execute_result"
    }
   ],
   "source": [
    "results"
   ]
  },
  {
   "cell_type": "code",
   "execution_count": 133,
   "metadata": {},
   "outputs": [
    {
     "name": "stdout",
     "output_type": "stream",
     "text": [
      "Epoch 1/4\n",
      "49/49 [==============================] - 5s 48ms/step - loss: 0.4230 - accuracy: 0.8294\n",
      "Epoch 2/4\n",
      "49/49 [==============================] - 1s 27ms/step - loss: 0.2300 - accuracy: 0.9145\n",
      "Epoch 3/4\n",
      "49/49 [==============================] - 1s 26ms/step - loss: 0.1754 - accuracy: 0.9352\n",
      "Epoch 4/4\n",
      "49/49 [==============================] - 1s 25ms/step - loss: 0.1472 - accuracy: 0.9477\n",
      "782/782 [==============================] - 5s 6ms/step - loss: 0.3235 - accuracy: 0.8796\n"
     ]
    }
   ],
   "source": [
    "# we want to prevent overfitting, so we will train a new network from scratch for four epochs \n",
    "    # and then evaluate it on the test data\n",
    "# Retraining a model from scratch\n",
    "model = models.Sequential()\n",
    "model.add(layers.Dense(16, activation='tanh', input_shape=(10000,)))\n",
    "model.add(layers.Dense(16, activation='tanh'))\n",
    "model.add(layers.Dense(1, activation='sigmoid'))\n",
    "model.compile(optimizer='rmsprop', loss='binary_crossentropy', metrics=['accuracy'])\n",
    "model.fit(x_train, y_train, epochs=4, batch_size=512)\n",
    "results = model.evaluate(x_test, y_test)"
   ]
  },
  {
   "cell_type": "code",
   "execution_count": 134,
   "metadata": {},
   "outputs": [
    {
     "data": {
      "text/plain": [
       "[0.3235030472278595, 0.8796399831771851]"
      ]
     },
     "execution_count": 134,
     "metadata": {},
     "output_type": "execute_result"
    }
   ],
   "source": [
    "results"
   ]
  },
  {
   "cell_type": "code",
   "execution_count": 135,
   "metadata": {},
   "outputs": [
    {
     "name": "stdout",
     "output_type": "stream",
     "text": [
      "Epoch 1/4\n",
      "49/49 [==============================] - 5s 48ms/step - loss: 0.1491 - accuracy: 0.8198\n",
      "Epoch 2/4\n",
      "49/49 [==============================] - 1s 29ms/step - loss: 0.0782 - accuracy: 0.9129\n",
      "Epoch 3/4\n",
      "49/49 [==============================] - 1s 28ms/step - loss: 0.0581 - accuracy: 0.9326\n",
      "Epoch 4/4\n",
      "49/49 [==============================] - 2s 33ms/step - loss: 0.0472 - accuracy: 0.9452\n",
      "782/782 [==============================] - 5s 6ms/step - loss: 0.0863 - accuracy: 0.8832\n"
     ]
    }
   ],
   "source": [
    "# we want to prevent overfitting, so we will train a new network from scratch for four epochs \n",
    "    # and then evaluate it on the test data\n",
    "# Retraining a model from scratch\n",
    "model = models.Sequential()\n",
    "model.add(layers.Dense(16, activation='relu', input_shape=(10000,)))\n",
    "model.add(layers.Dense(16, activation='relu'))\n",
    "model.add(layers.Dense(1, activation='sigmoid'))\n",
    "model.compile(optimizer='rmsprop', loss='mse', metrics=['accuracy'])\n",
    "model.fit(x_train, y_train, epochs=4, batch_size=512)\n",
    "results = model.evaluate(x_test, y_test)"
   ]
  },
  {
   "cell_type": "code",
   "execution_count": 136,
   "metadata": {},
   "outputs": [
    {
     "data": {
      "text/plain": [
       "[0.08628930896520615, 0.8832399845123291]"
      ]
     },
     "execution_count": 136,
     "metadata": {},
     "output_type": "execute_result"
    }
   ],
   "source": [
    "results"
   ]
  },
  {
   "cell_type": "code",
   "execution_count": 60,
   "metadata": {},
   "outputs": [
    {
     "name": "stdout",
     "output_type": "stream",
     "text": [
      "Epoch 1/4\n",
      "49/49 [==============================] - 3s 33ms/step - loss: 0.1317 - accuracy: 0.8174\n",
      "Epoch 2/4\n",
      "49/49 [==============================] - 2s 33ms/step - loss: 0.0667 - accuracy: 0.9129\n",
      "Epoch 3/4\n",
      "49/49 [==============================] - 2s 32ms/step - loss: 0.0517 - accuracy: 0.9328\n",
      "Epoch 4/4\n",
      "49/49 [==============================] - 1s 30ms/step - loss: 0.0435 - accuracy: 0.9454\n",
      "782/782 [==============================] - 5s 6ms/step - loss: 0.0966 - accuracy: 0.8753\n"
     ]
    }
   ],
   "source": [
    "# we want to prevent overfitting, so we will train a new network from scratch for four epochs \n",
    "    # and then evaluate it on the test data\n",
    "# Retraining a model from scratch\n",
    "model = models.Sequential()\n",
    "model.add(layers.Dense(32, activation='tanh', input_shape=(10000,)))\n",
    "model.add(layers.Dense(32, activation='tanh'))\n",
    "model.add(layers.Dense(1, activation='sigmoid'))\n",
    "model.compile(optimizer='rmsprop', loss='mse', metrics=['accuracy'])\n",
    "model.fit(x_train, y_train, epochs=4, batch_size=512)\n",
    "results = model.evaluate(x_test, y_test)"
   ]
  },
  {
   "cell_type": "code",
   "execution_count": 61,
   "metadata": {},
   "outputs": [
    {
     "data": {
      "text/plain": [
       "[0.09656553715467453, 0.8752800226211548]"
      ]
     },
     "execution_count": 61,
     "metadata": {},
     "output_type": "execute_result"
    }
   ],
   "source": [
    "# This naive approach achieves an accuracy of 88%\n",
    "results"
   ]
  },
  {
   "cell_type": "code",
   "execution_count": 62,
   "metadata": {},
   "outputs": [
    {
     "data": {
      "text/plain": [
       "array([[0.06449416],\n",
       "       [0.9994958 ],\n",
       "       [0.67489994],\n",
       "       ...,\n",
       "       [0.28076956],\n",
       "       [0.03275594],\n",
       "       [0.32294607]], dtype=float32)"
      ]
     },
     "execution_count": 62,
     "metadata": {},
     "output_type": "execute_result"
    }
   ],
   "source": [
    "# network is confident for some samples (0.99 or more, or 0.07 or\n",
    "    # less) but less confident for others (0.7)\n",
    "model.predict(x_test)"
   ]
  },
  {
   "cell_type": "markdown",
   "metadata": {},
   "source": [
    "## Classifying newswires: a multiclass classification example\n",
    "### The Reuters dataset"
   ]
  },
  {
   "cell_type": "code",
   "execution_count": 137,
   "metadata": {},
   "outputs": [],
   "source": [
    "# Reuters dataset: a set of short newswires and their topics, published by Reuters in 1986.\n",
    "(train_data, train_labels), (test_data, test_labels) = reuters.load_data(num_words=10000)"
   ]
  },
  {
   "cell_type": "code",
   "execution_count": 138,
   "metadata": {},
   "outputs": [
    {
     "data": {
      "text/plain": [
       "8982"
      ]
     },
     "execution_count": 138,
     "metadata": {},
     "output_type": "execute_result"
    }
   ],
   "source": [
    "#  8982 training example\n",
    "len(train_data)"
   ]
  },
  {
   "cell_type": "code",
   "execution_count": 139,
   "metadata": {},
   "outputs": [
    {
     "data": {
      "text/plain": [
       "2246"
      ]
     },
     "execution_count": 139,
     "metadata": {},
     "output_type": "execute_result"
    }
   ],
   "source": [
    "# 2246 test examples\n",
    "len(test_data)"
   ]
  },
  {
   "cell_type": "code",
   "execution_count": 66,
   "metadata": {},
   "outputs": [
    {
     "data": {
      "text/plain": [
       "[1,\n",
       " 245,\n",
       " 273,\n",
       " 207,\n",
       " 156,\n",
       " 53,\n",
       " 74,\n",
       " 160,\n",
       " 26,\n",
       " 14,\n",
       " 46,\n",
       " 296,\n",
       " 26,\n",
       " 39,\n",
       " 74,\n",
       " 2979,\n",
       " 3554,\n",
       " 14,\n",
       " 46,\n",
       " 4689,\n",
       " 4329,\n",
       " 86,\n",
       " 61,\n",
       " 3499,\n",
       " 4795,\n",
       " 14,\n",
       " 61,\n",
       " 451,\n",
       " 4329,\n",
       " 17,\n",
       " 12]"
      ]
     },
     "execution_count": 66,
     "metadata": {},
     "output_type": "execute_result"
    }
   ],
   "source": [
    "train_data[10]"
   ]
  },
  {
   "cell_type": "code",
   "execution_count": 140,
   "metadata": {},
   "outputs": [],
   "source": [
    "# Vectorize/Encoding the data\n",
    "# cast the label list as an integer tensor\n",
    "def vectorize_sequences(sequences, dimension=10000):\n",
    "    results = np.zeros((len(sequences), dimension))\n",
    "    for i, sequence in enumerate(sequences):\n",
    "        results[i, sequence] = 1.\n",
    "    return results\n",
    "x_train = vectorize_sequences(train_data) # Vectorized training data\n",
    "x_test = vectorize_sequences(test_data) # Vectorized testing data"
   ]
  },
  {
   "cell_type": "code",
   "execution_count": 141,
   "metadata": {},
   "outputs": [],
   "source": [
    "# Vectorize/Encoding the data\n",
    "# one-hot encoding (categorical encoding)\n",
    "    # widely used format for categorical data\n",
    "def to_one_hot(labels, dimension=46):\n",
    "    results = np.zeros((len(labels), dimension))\n",
    "    for i, label in enumerate(labels):\n",
    "        results[i, label] = 1.\n",
    "    return results\n",
    "one_hot_train_labels = to_one_hot(train_labels) # Vectorized training data\n",
    "one_hot_test_labels = to_one_hot(test_labels) # Vectorized testing data"
   ]
  },
  {
   "cell_type": "code",
   "execution_count": 142,
   "metadata": {},
   "outputs": [],
   "source": [
    "# Model definition\n",
    "model = models.Sequential()\n",
    "model.add(layers.Dense(64, activation='relu', input_shape=(10000,)))\n",
    "model.add(layers.Dense(64, activation='relu'))\n",
    "model.add(layers.Dense(46, activation='softmax'))"
   ]
  },
  {
   "cell_type": "code",
   "execution_count": 143,
   "metadata": {},
   "outputs": [],
   "source": [
    "# Compiling the model\n",
    "model.compile(optimizer='rmsprop', loss='categorical_crossentropy', metrics=['accuracy'])"
   ]
  },
  {
   "cell_type": "code",
   "execution_count": 144,
   "metadata": {},
   "outputs": [],
   "source": [
    "# Setting aside a validation set\n",
    "    # Set apart 1000 samples in the training data to use as a validation set\n",
    "x_val = x_train[:1000]\n",
    "partial_x_train = x_train[1000:]\n",
    "y_val = one_hot_train_labels[:1000]\n",
    "partial_y_train = one_hot_train_labels[1000:]"
   ]
  },
  {
   "cell_type": "code",
   "execution_count": 145,
   "metadata": {},
   "outputs": [
    {
     "name": "stdout",
     "output_type": "stream",
     "text": [
      "Epoch 1/20\n",
      "16/16 [==============================] - 4s 119ms/step - loss: 2.6365 - accuracy: 0.5227 - val_loss: 1.7368 - val_accuracy: 0.6510\n",
      "Epoch 2/20\n",
      "16/16 [==============================] - 1s 73ms/step - loss: 1.4086 - accuracy: 0.7108 - val_loss: 1.3587 - val_accuracy: 0.6780\n",
      "Epoch 3/20\n",
      "16/16 [==============================] - 1s 73ms/step - loss: 1.0387 - accuracy: 0.7722 - val_loss: 1.1226 - val_accuracy: 0.7590\n",
      "Epoch 4/20\n",
      "16/16 [==============================] - 1s 77ms/step - loss: 0.8154 - accuracy: 0.8245 - val_loss: 1.0130 - val_accuracy: 0.7830\n",
      "Epoch 5/20\n",
      "16/16 [==============================] - 1s 63ms/step - loss: 0.6520 - accuracy: 0.8638 - val_loss: 0.9874 - val_accuracy: 0.7760\n",
      "Epoch 6/20\n",
      "16/16 [==============================] - 1s 71ms/step - loss: 0.5209 - accuracy: 0.8931 - val_loss: 0.9180 - val_accuracy: 0.8100\n",
      "Epoch 7/20\n",
      "16/16 [==============================] - 1s 82ms/step - loss: 0.4191 - accuracy: 0.9149 - val_loss: 0.9002 - val_accuracy: 0.8130\n",
      "Epoch 8/20\n",
      "16/16 [==============================] - 1s 63ms/step - loss: 0.3427 - accuracy: 0.9285 - val_loss: 0.8853 - val_accuracy: 0.8090\n",
      "Epoch 9/20\n",
      "16/16 [==============================] - 1s 52ms/step - loss: 0.2816 - accuracy: 0.9390 - val_loss: 0.8797 - val_accuracy: 0.8160\n",
      "Epoch 10/20\n",
      "16/16 [==============================] - 1s 52ms/step - loss: 0.2398 - accuracy: 0.9456 - val_loss: 0.9281 - val_accuracy: 0.8090\n",
      "Epoch 11/20\n",
      "16/16 [==============================] - 1s 60ms/step - loss: 0.2042 - accuracy: 0.9490 - val_loss: 0.9307 - val_accuracy: 0.8100\n",
      "Epoch 12/20\n",
      "16/16 [==============================] - 1s 58ms/step - loss: 0.1879 - accuracy: 0.9513 - val_loss: 0.9155 - val_accuracy: 0.8100\n",
      "Epoch 13/20\n",
      "16/16 [==============================] - 1s 64ms/step - loss: 0.1671 - accuracy: 0.9531 - val_loss: 0.9795 - val_accuracy: 0.8060\n",
      "Epoch 14/20\n",
      "16/16 [==============================] - 1s 54ms/step - loss: 0.1490 - accuracy: 0.9550 - val_loss: 0.9548 - val_accuracy: 0.8100\n",
      "Epoch 15/20\n",
      "16/16 [==============================] - 1s 62ms/step - loss: 0.1421 - accuracy: 0.9574 - val_loss: 1.0211 - val_accuracy: 0.8020\n",
      "Epoch 16/20\n",
      "16/16 [==============================] - 1s 68ms/step - loss: 0.1327 - accuracy: 0.9557 - val_loss: 1.0130 - val_accuracy: 0.7960\n",
      "Epoch 17/20\n",
      "16/16 [==============================] - 1s 67ms/step - loss: 0.1315 - accuracy: 0.9565 - val_loss: 1.0314 - val_accuracy: 0.8000\n",
      "Epoch 18/20\n",
      "16/16 [==============================] - 1s 74ms/step - loss: 0.1190 - accuracy: 0.9588 - val_loss: 1.0544 - val_accuracy: 0.8120\n",
      "Epoch 19/20\n",
      "16/16 [==============================] - 1s 66ms/step - loss: 0.1164 - accuracy: 0.9554 - val_loss: 1.0864 - val_accuracy: 0.7900\n",
      "Epoch 20/20\n",
      "16/16 [==============================] - 1s 70ms/step - loss: 0.1100 - accuracy: 0.9590 - val_loss: 1.1121 - val_accuracy: 0.7970\n"
     ]
    }
   ],
   "source": [
    "# Training the model\n",
    "    #  train the network for 20 epochs.\n",
    "history = model.fit(partial_x_train, partial_y_train, epochs=20, batch_size=512, validation_data=(x_val, y_val))"
   ]
  },
  {
   "cell_type": "code",
   "execution_count": 146,
   "metadata": {},
   "outputs": [
    {
     "data": {
      "text/plain": [
       "dict_keys(['loss', 'accuracy', 'val_loss', 'val_accuracy'])"
      ]
     },
     "execution_count": 146,
     "metadata": {},
     "output_type": "execute_result"
    }
   ],
   "source": [
    "# the call to model.fit() returns a History object. This object has a member history, \n",
    "    # which is a dictionary containing data about everything that happened during training\n",
    "history_dict = history.history\n",
    "history_dict.keys()"
   ]
  },
  {
   "cell_type": "code",
   "execution_count": 147,
   "metadata": {},
   "outputs": [
    {
     "data": {
      "image/png": "[encoded data removed]",
      "text/plain": [
       "<Figure size 432x288 with 1 Axes>"
      ]
     },
     "metadata": {
      "needs_background": "light"
     },
     "output_type": "display_data"
    }
   ],
   "source": [
    "# Plotting the training and validation loss\n",
    "loss = history.history['loss']\n",
    "val_loss = history.history['val_loss']\n",
    "epochs = range(1, len(loss) + 1)\n",
    "plt.plot(epochs, loss, 'bo', label='Training loss')\n",
    "plt.plot(epochs, val_loss, 'b', label='Validation loss')\n",
    "plt.title('Training and validation loss')\n",
    "plt.xlabel('Epochs')\n",
    "plt.ylabel('Loss')\n",
    "plt.legend()\n",
    "plt.show()"
   ]
  },
  {
   "cell_type": "code",
   "execution_count": 148,
   "metadata": {},
   "outputs": [
    {
     "data": {
      "image/png": "[encoded data removed]",
      "text/plain": [
       "<Figure size 432x288 with 1 Axes>"
      ]
     },
     "metadata": {
      "needs_background": "light"
     },
     "output_type": "display_data"
    }
   ],
   "source": [
    "# Plotting the training and validation accuracy\n",
    "plt.clf()\n",
    "acc = history.history['accuracy']\n",
    "val_acc = history.history['val_accuracy']\n",
    "plt.plot(epochs, acc, 'bo', label='Training acc')\n",
    "plt.plot(epochs, val_acc, 'b', label='Validation acc')\n",
    "plt.title('Training and validation accuracy')\n",
    "plt.xlabel('Epochs')\n",
    "plt.ylabel('Loss')\n",
    "plt.legend()\n",
    "plt.show()\n",
    "# The network begins to overfit after 9/10 epochs."
   ]
  },
  {
   "cell_type": "code",
   "execution_count": 149,
   "metadata": {},
   "outputs": [
    {
     "name": "stdout",
     "output_type": "stream",
     "text": [
      "Epoch 1/9\n",
      "16/16 [==============================] - 5s 147ms/step - loss: 2.6431 - accuracy: 0.5371 - val_loss: 1.7460 - val_accuracy: 0.6540\n",
      "Epoch 2/9\n",
      "16/16 [==============================] - 1s 82ms/step - loss: 1.4300 - accuracy: 0.6999 - val_loss: 1.3219 - val_accuracy: 0.7100\n",
      "Epoch 3/9\n",
      "16/16 [==============================] - 1s 71ms/step - loss: 1.0620 - accuracy: 0.7754 - val_loss: 1.1361 - val_accuracy: 0.7490\n",
      "Epoch 4/9\n",
      "16/16 [==============================] - 1s 58ms/step - loss: 0.8294 - accuracy: 0.8203 - val_loss: 1.0282 - val_accuracy: 0.7870\n",
      "Epoch 5/9\n",
      "16/16 [==============================] - 1s 74ms/step - loss: 0.6581 - accuracy: 0.8614 - val_loss: 0.9678 - val_accuracy: 0.8100\n",
      "Epoch 6/9\n",
      "16/16 [==============================] - 1s 67ms/step - loss: 0.5200 - accuracy: 0.8935 - val_loss: 0.9338 - val_accuracy: 0.8080\n",
      "Epoch 7/9\n",
      "16/16 [==============================] - 1s 69ms/step - loss: 0.4217 - accuracy: 0.9142 - val_loss: 0.9275 - val_accuracy: 0.8130\n",
      "Epoch 8/9\n",
      "16/16 [==============================] - 1s 81ms/step - loss: 0.3375 - accuracy: 0.9292 - val_loss: 0.8915 - val_accuracy: 0.8170\n",
      "Epoch 9/9\n",
      "16/16 [==============================] - 1s 62ms/step - loss: 0.2838 - accuracy: 0.9375 - val_loss: 0.8996 - val_accuracy: 0.8220\n",
      "71/71 [==============================] - 1s 6ms/step - loss: 1.0123 - accuracy: 0.7827\n"
     ]
    }
   ],
   "source": [
    "# Retraining a model from scratch\n",
    "model = models.Sequential()\n",
    "model.add(layers.Dense(64, activation='relu', input_shape=(10000,)))\n",
    "model.add(layers.Dense(64, activation='relu'))\n",
    "model.add(layers.Dense(46, activation='softmax'))\n",
    "model.compile(optimizer='rmsprop', loss='categorical_crossentropy', metrics=['accuracy'])\n",
    "model.fit(partial_x_train, partial_y_train, epochs=9, batch_size=512, validation_data=(x_val, y_val))\n",
    "results = model.evaluate(x_test, one_hot_test_labels)"
   ]
  },
  {
   "cell_type": "code",
   "execution_count": 77,
   "metadata": {},
   "outputs": [
    {
     "data": {
      "text/plain": [
       "[0.9606444239616394, 0.7934104800224304]"
      ]
     },
     "execution_count": 77,
     "metadata": {},
     "output_type": "execute_result"
    }
   ],
   "source": [
    "results"
   ]
  },
  {
   "cell_type": "code",
   "execution_count": 78,
   "metadata": {},
   "outputs": [],
   "source": [
    "# Generating predictions for new data\n",
    "predictions = model.predict(x_test)"
   ]
  },
  {
   "cell_type": "code",
   "execution_count": 79,
   "metadata": {},
   "outputs": [
    {
     "data": {
      "text/plain": [
       "(46,)"
      ]
     },
     "execution_count": 79,
     "metadata": {},
     "output_type": "execute_result"
    }
   ],
   "source": [
    "# Each entry in predictions is a vector of length 46\n",
    "predictions[0].shape"
   ]
  },
  {
   "cell_type": "code",
   "execution_count": 80,
   "metadata": {},
   "outputs": [
    {
     "data": {
      "text/plain": [
       "1.0"
      ]
     },
     "execution_count": 80,
     "metadata": {},
     "output_type": "execute_result"
    }
   ],
   "source": [
    "# The coefficients in this vector sum to 1\n",
    "np.sum(predictions[0])"
   ]
  },
  {
   "cell_type": "code",
   "execution_count": 81,
   "metadata": {},
   "outputs": [
    {
     "data": {
      "text/plain": [
       "3"
      ]
     },
     "execution_count": 81,
     "metadata": {},
     "output_type": "execute_result"
    }
   ],
   "source": [
    "# The largest entry is the predicted class—the class with the highest probability\n",
    "np.argmax(predictions[0])"
   ]
  },
  {
   "cell_type": "code",
   "execution_count": 83,
   "metadata": {},
   "outputs": [
    {
     "data": {
      "text/plain": [
       "array([[1.3666414e-03, 3.8953491e-05, 9.1892114e-05, ..., 2.1686239e-05,\n",
       "        1.1355438e-05, 2.7190122e-06],\n",
       "       [1.4787992e-03, 7.1912222e-03, 1.6449343e-03, ..., 1.4987765e-02,\n",
       "        1.0286891e-06, 9.4612094e-04],\n",
       "       [3.5687108e-03, 2.5964832e-01, 1.2194702e-02, ..., 4.4800737e-03,\n",
       "        3.4424917e-05, 2.9020971e-03],\n",
       "       ...,\n",
       "       [2.2120732e-04, 7.8071316e-04, 3.9115854e-04, ..., 1.4546621e-05,\n",
       "        2.0327747e-05, 2.5745137e-06],\n",
       "       [2.0206866e-03, 4.2566095e-02, 1.1777052e-02, ..., 2.0185101e-03,\n",
       "        2.9022875e-04, 2.0387773e-04],\n",
       "       [1.9870300e-04, 5.8181393e-01, 1.0298229e-02, ..., 7.7409489e-04,\n",
       "        7.3847434e-05, 1.5068812e-04]], dtype=float32)"
      ]
     },
     "execution_count": 83,
     "metadata": {},
     "output_type": "execute_result"
    }
   ],
   "source": [
    "predictions"
   ]
  },
  {
   "cell_type": "code",
   "execution_count": 150,
   "metadata": {},
   "outputs": [
    {
     "name": "stdout",
     "output_type": "stream",
     "text": [
      "Epoch 1/9\n",
      "16/16 [==============================] - 2s 65ms/step - loss: 3.5808 - accuracy: 0.1411 - val_loss: 3.2580 - val_accuracy: 0.3570\n",
      "Epoch 2/9\n",
      "16/16 [==============================] - 1s 39ms/step - loss: 2.9643 - accuracy: 0.3696 - val_loss: 2.6717 - val_accuracy: 0.3890\n",
      "Epoch 3/9\n",
      "16/16 [==============================] - 0s 30ms/step - loss: 2.3872 - accuracy: 0.4622 - val_loss: 2.1719 - val_accuracy: 0.5530\n",
      "Epoch 4/9\n",
      "16/16 [==============================] - 1s 40ms/step - loss: 1.8869 - accuracy: 0.5987 - val_loss: 1.7698 - val_accuracy: 0.6080\n",
      "Epoch 5/9\n",
      "16/16 [==============================] - 1s 44ms/step - loss: 1.5307 - accuracy: 0.6688 - val_loss: 1.5372 - val_accuracy: 0.6520\n",
      "Epoch 6/9\n",
      "16/16 [==============================] - 1s 42ms/step - loss: 1.3068 - accuracy: 0.7284 - val_loss: 1.4028 - val_accuracy: 0.6820\n",
      "Epoch 7/9\n",
      "16/16 [==============================] - 1s 38ms/step - loss: 1.1579 - accuracy: 0.7578 - val_loss: 1.3117 - val_accuracy: 0.7010\n",
      "Epoch 8/9\n",
      "16/16 [==============================] - 1s 45ms/step - loss: 1.0430 - accuracy: 0.7741 - val_loss: 1.2468 - val_accuracy: 0.7150\n",
      "Epoch 9/9\n",
      "16/16 [==============================] - 1s 43ms/step - loss: 0.9483 - accuracy: 0.7920 - val_loss: 1.1990 - val_accuracy: 0.7240\n",
      "71/71 [==============================] - 0s 4ms/step - loss: 1.2279 - accuracy: 0.7204\n"
     ]
    }
   ],
   "source": [
    "# Retraining a model from scratch\n",
    "model = models.Sequential()\n",
    "model.add(layers.Dense(16, activation='relu', input_shape=(10000,)))\n",
    "model.add(layers.Dense(16, activation='relu'))\n",
    "model.add(layers.Dense(46, activation='softmax'))\n",
    "model.compile(optimizer='rmsprop', loss='categorical_crossentropy', metrics=['accuracy'])\n",
    "model.fit(partial_x_train, partial_y_train, epochs=9, batch_size=512, validation_data=(x_val, y_val))\n",
    "results = model.evaluate(x_test, one_hot_test_labels)"
   ]
  },
  {
   "cell_type": "code",
   "execution_count": 151,
   "metadata": {},
   "outputs": [
    {
     "data": {
      "text/plain": [
       "[1.2278814315795898, 0.7203918099403381]"
      ]
     },
     "execution_count": 151,
     "metadata": {},
     "output_type": "execute_result"
    }
   ],
   "source": [
    "results"
   ]
  },
  {
   "cell_type": "code",
   "execution_count": 152,
   "metadata": {},
   "outputs": [
    {
     "name": "stdout",
     "output_type": "stream",
     "text": [
      "Epoch 1/9\n",
      "16/16 [==============================] - 4s 135ms/step - loss: 3.0981 - accuracy: 0.4762 - val_loss: 2.3840 - val_accuracy: 0.5380\n",
      "Epoch 2/9\n",
      "16/16 [==============================] - 1s 38ms/step - loss: 2.0231 - accuracy: 0.5744 - val_loss: 1.7599 - val_accuracy: 0.6000\n",
      "Epoch 3/9\n",
      "16/16 [==============================] - 1s 42ms/step - loss: 1.5419 - accuracy: 0.6641 - val_loss: 1.4767 - val_accuracy: 0.6780\n",
      "Epoch 4/9\n",
      "16/16 [==============================] - 1s 37ms/step - loss: 1.2754 - accuracy: 0.7255 - val_loss: 1.3360 - val_accuracy: 0.6940\n",
      "Epoch 5/9\n",
      "16/16 [==============================] - 1s 38ms/step - loss: 1.0985 - accuracy: 0.7596 - val_loss: 1.2339 - val_accuracy: 0.7190\n",
      "Epoch 6/9\n",
      "16/16 [==============================] - 1s 43ms/step - loss: 0.9630 - accuracy: 0.7919 - val_loss: 1.1595 - val_accuracy: 0.7530\n",
      "Epoch 7/9\n",
      "16/16 [==============================] - 1s 41ms/step - loss: 0.8484 - accuracy: 0.8160 - val_loss: 1.1034 - val_accuracy: 0.7630\n",
      "Epoch 8/9\n",
      "16/16 [==============================] - 1s 40ms/step - loss: 0.7437 - accuracy: 0.8376 - val_loss: 1.0616 - val_accuracy: 0.7740\n",
      "Epoch 9/9\n",
      "16/16 [==============================] - 1s 39ms/step - loss: 0.6499 - accuracy: 0.8549 - val_loss: 1.0243 - val_accuracy: 0.7840\n",
      "71/71 [==============================] - 0s 4ms/step - loss: 1.0887 - accuracy: 0.7516\n"
     ]
    }
   ],
   "source": [
    "# Retraining a model from scratch\n",
    "model = models.Sequential()\n",
    "model.add(layers.Dense(32, activation='relu', input_shape=(10000,)))\n",
    "model.add(layers.Dense(32, activation='relu'))\n",
    "model.add(layers.Dense(46, activation='softmax'))\n",
    "model.compile(optimizer='rmsprop', loss='categorical_crossentropy', metrics=['accuracy'])\n",
    "model.fit(partial_x_train, partial_y_train, epochs=9, batch_size=512, validation_data=(x_val, y_val))\n",
    "results = model.evaluate(x_test, one_hot_test_labels)"
   ]
  },
  {
   "cell_type": "code",
   "execution_count": 153,
   "metadata": {},
   "outputs": [
    {
     "data": {
      "text/plain": [
       "[1.0887371301651, 0.7515583038330078]"
      ]
     },
     "execution_count": 153,
     "metadata": {},
     "output_type": "execute_result"
    }
   ],
   "source": [
    "results"
   ]
  },
  {
   "cell_type": "code",
   "execution_count": 154,
   "metadata": {},
   "outputs": [
    {
     "name": "stdout",
     "output_type": "stream",
     "text": [
      "Epoch 1/9\n",
      "16/16 [==============================] - 4s 151ms/step - loss: 2.2006 - accuracy: 0.5549 - val_loss: 1.4038 - val_accuracy: 0.6830\n",
      "Epoch 2/9\n",
      "16/16 [==============================] - 2s 100ms/step - loss: 1.1146 - accuracy: 0.7566 - val_loss: 1.1440 - val_accuracy: 0.7470\n",
      "Epoch 3/9\n",
      "16/16 [==============================] - 2s 128ms/step - loss: 0.7791 - accuracy: 0.8309 - val_loss: 0.9963 - val_accuracy: 0.7790\n",
      "Epoch 4/9\n",
      "16/16 [==============================] - 2s 141ms/step - loss: 0.5724 - accuracy: 0.8806 - val_loss: 0.9227 - val_accuracy: 0.8050\n",
      "Epoch 5/9\n",
      "16/16 [==============================] - 2s 122ms/step - loss: 0.4167 - accuracy: 0.9110 - val_loss: 0.9210 - val_accuracy: 0.8160\n",
      "Epoch 6/9\n",
      "16/16 [==============================] - 2s 103ms/step - loss: 0.3199 - accuracy: 0.9326 - val_loss: 0.9261 - val_accuracy: 0.8030\n",
      "Epoch 7/9\n",
      "16/16 [==============================] - 2s 110ms/step - loss: 0.2497 - accuracy: 0.9445 - val_loss: 0.8866 - val_accuracy: 0.8230\n",
      "Epoch 8/9\n",
      "16/16 [==============================] - 2s 96ms/step - loss: 0.2075 - accuracy: 0.9489 - val_loss: 0.9627 - val_accuracy: 0.8010\n",
      "Epoch 9/9\n",
      "16/16 [==============================] - 2s 102ms/step - loss: 0.1832 - accuracy: 0.9511 - val_loss: 0.9434 - val_accuracy: 0.8030\n",
      "71/71 [==============================] - 1s 16ms/step - loss: 1.0784 - accuracy: 0.7876\n"
     ]
    }
   ],
   "source": [
    "# Retraining a model from scratch\n",
    "model = models.Sequential()\n",
    "model.add(layers.Dense(128, activation='relu', input_shape=(10000,)))\n",
    "model.add(layers.Dense(128, activation='relu'))\n",
    "model.add(layers.Dense(46, activation='softmax'))\n",
    "model.compile(optimizer='rmsprop', loss='categorical_crossentropy', metrics=['accuracy'])\n",
    "model.fit(partial_x_train, partial_y_train, epochs=9, batch_size=512, validation_data=(x_val, y_val))\n",
    "results = model.evaluate(x_test, one_hot_test_labels)"
   ]
  },
  {
   "cell_type": "code",
   "execution_count": 155,
   "metadata": {},
   "outputs": [
    {
     "data": {
      "text/plain": [
       "[1.0783967971801758, 0.7876224517822266]"
      ]
     },
     "execution_count": 155,
     "metadata": {},
     "output_type": "execute_result"
    }
   ],
   "source": [
    "results"
   ]
  },
  {
   "cell_type": "code",
   "execution_count": 82,
   "metadata": {},
   "outputs": [
    {
     "name": "stdout",
     "output_type": "stream",
     "text": [
      "Epoch 1/20\n",
      "63/63 [==============================] - 4s 36ms/step - loss: 3.4940 - accuracy: 0.3170 - val_loss: 3.1680 - val_accuracy: 0.5510\n",
      "Epoch 2/20\n",
      "63/63 [==============================] - 2s 30ms/step - loss: 2.8755 - accuracy: 0.5861 - val_loss: 2.7955 - val_accuracy: 0.5970\n",
      "Epoch 3/20\n",
      "63/63 [==============================] - 2s 31ms/step - loss: 2.5614 - accuracy: 0.6203 - val_loss: 2.6262 - val_accuracy: 0.6190\n",
      "Epoch 4/20\n",
      "63/63 [==============================] - 2s 32ms/step - loss: 2.3759 - accuracy: 0.6320 - val_loss: 2.5531 - val_accuracy: 0.6160\n",
      "Epoch 5/20\n",
      "63/63 [==============================] - 2s 30ms/step - loss: 2.2228 - accuracy: 0.6180 - val_loss: 2.4136 - val_accuracy: 0.4870\n",
      "Epoch 6/20\n",
      "63/63 [==============================] - 2s 28ms/step - loss: 1.9686 - accuracy: 0.4320 - val_loss: 2.0643 - val_accuracy: 0.3700\n",
      "Epoch 7/20\n",
      "63/63 [==============================] - 2s 28ms/step - loss: 1.4311 - accuracy: 0.6280 - val_loss: 1.5900 - val_accuracy: 0.6460\n",
      "Epoch 8/20\n",
      "63/63 [==============================] - 1s 22ms/step - loss: 1.1078 - accuracy: 0.7260 - val_loss: 1.4923 - val_accuracy: 0.6720\n",
      "Epoch 9/20\n",
      "63/63 [==============================] - 2s 27ms/step - loss: 1.0034 - accuracy: 0.7517 - val_loss: 1.5177 - val_accuracy: 0.6760\n",
      "Epoch 10/20\n",
      "63/63 [==============================] - 2s 27ms/step - loss: 0.9399 - accuracy: 0.7661 - val_loss: 1.5281 - val_accuracy: 0.6830\n",
      "Epoch 11/20\n",
      "63/63 [==============================] - 2s 29ms/step - loss: 0.8887 - accuracy: 0.7746 - val_loss: 1.6047 - val_accuracy: 0.6790\n",
      "Epoch 12/20\n",
      "63/63 [==============================] - 2s 29ms/step - loss: 0.8475 - accuracy: 0.7815 - val_loss: 1.6165 - val_accuracy: 0.6820\n",
      "Epoch 13/20\n",
      "63/63 [==============================] - 2s 27ms/step - loss: 0.8098 - accuracy: 0.7889 - val_loss: 1.6825 - val_accuracy: 0.6830\n",
      "Epoch 14/20\n",
      "63/63 [==============================] - 2s 32ms/step - loss: 0.7791 - accuracy: 0.7917 - val_loss: 1.7629 - val_accuracy: 0.6830\n",
      "Epoch 15/20\n",
      "63/63 [==============================] - 2s 32ms/step - loss: 0.7509 - accuracy: 0.7939 - val_loss: 1.7831 - val_accuracy: 0.6820\n",
      "Epoch 16/20\n",
      "63/63 [==============================] - 2s 28ms/step - loss: 0.7259 - accuracy: 0.7970 - val_loss: 1.8554 - val_accuracy: 0.6820\n",
      "Epoch 17/20\n",
      "63/63 [==============================] - ETA: 0s - loss: 0.7048 - accuracy: 0.80 - 2s 28ms/step - loss: 0.7054 - accuracy: 0.8006 - val_loss: 1.9628 - val_accuracy: 0.6760\n",
      "Epoch 18/20\n",
      "63/63 [==============================] - 2s 27ms/step - loss: 0.6844 - accuracy: 0.8031 - val_loss: 2.0539 - val_accuracy: 0.6720\n",
      "Epoch 19/20\n",
      "63/63 [==============================] - 2s 29ms/step - loss: 0.6679 - accuracy: 0.8073 - val_loss: 2.1130 - val_accuracy: 0.6750\n",
      "Epoch 20/20\n",
      "63/63 [==============================] - 2s 28ms/step - loss: 0.6551 - accuracy: 0.8084 - val_loss: 2.1288 - val_accuracy: 0.6810\n"
     ]
    },
    {
     "data": {
      "text/plain": [
       "<keras.callbacks.History at 0x7ff0cfa4cdd0>"
      ]
     },
     "execution_count": 82,
     "metadata": {},
     "output_type": "execute_result"
    }
   ],
   "source": [
    "# A model with an information bottleneck\n",
    "    # what happens when you introduce an information bottleneck by having intermediate layers \n",
    "    # that are significantly less than 46-dimensional: for example, 4-dimensional\n",
    "model = models.Sequential()\n",
    "model.add(layers.Dense(64, activation='relu', input_shape=(10000,)))\n",
    "model.add(layers.Dense(4, activation='relu'))\n",
    "model.add(layers.Dense(46, activation='softmax'))\n",
    "model.compile(optimizer='rmsprop', loss='categorical_crossentropy', metrics=['accuracy'])\n",
    "model.fit(partial_x_train, partial_y_train, epochs=20, batch_size=128, validation_data=(x_val, y_val))\n",
    "# The network now peaks at ~71% validation accuracy, a 10% absolute drop. This drop\n",
    "    # is mostly due to the fact that you’re trying to compress a lot of information (enough\n",
    "    # information to recover the separation hyperplanes of 46 classes) into an intermediate\n",
    "    # space that is too low-dimensional. The network is able to cram most of the necessary\n",
    "    # information into these eight-dimensional representations, but not all of it."
   ]
  },
  {
   "cell_type": "code",
   "execution_count": 84,
   "metadata": {},
   "outputs": [
    {
     "data": {
      "text/plain": [
       "[0.9606444239616394, 0.7934104800224304]"
      ]
     },
     "execution_count": 84,
     "metadata": {},
     "output_type": "execute_result"
    }
   ],
   "source": [
    "results"
   ]
  },
  {
   "cell_type": "code",
   "execution_count": 85,
   "metadata": {},
   "outputs": [
    {
     "data": {
      "text/plain": [
       "array([[5.3314965e-12, 1.6399132e-05, 6.8123276e-12, ..., 6.0570879e-13,\n",
       "        2.5522895e-16, 5.4831864e-21],\n",
       "       [3.6034580e-02, 2.9873043e-02, 4.8500355e-03, ..., 3.1426868e-03,\n",
       "        8.0078123e-03, 1.9425303e-03],\n",
       "       [6.8641393e-03, 8.1076927e-02, 6.4238055e-05, ..., 3.4683751e-05,\n",
       "        7.1229826e-04, 5.8065275e-06],\n",
       "       ...,\n",
       "       [8.9661889e-11, 3.2217499e-06, 1.2765833e-10, ..., 6.7094728e-12,\n",
       "        1.8005118e-17, 5.2345257e-21],\n",
       "       [7.1637558e-05, 2.7696699e-02, 7.0253904e-05, ..., 4.6034769e-05,\n",
       "        2.3620283e-04, 3.8514418e-06],\n",
       "       [8.5449187e-08, 6.6752034e-01, 2.8968982e-13, ..., 6.0683263e-14,\n",
       "        3.7990269e-10, 3.1398763e-18]], dtype=float32)"
      ]
     },
     "execution_count": 85,
     "metadata": {},
     "output_type": "execute_result"
    }
   ],
   "source": [
    "model.predict(x_test)"
   ]
  },
  {
   "cell_type": "code",
   "execution_count": 87,
   "metadata": {},
   "outputs": [
    {
     "name": "stdout",
     "output_type": "stream",
     "text": [
      "Epoch 1/9\n",
      "16/16 [==============================] - 2s 72ms/step - loss: 2.9618 - accuracy: 0.4992 - val_loss: 2.2456 - val_accuracy: 0.5830\n",
      "Epoch 2/9\n",
      "16/16 [==============================] - 1s 35ms/step - loss: 1.8949 - accuracy: 0.6338 - val_loss: 1.6646 - val_accuracy: 0.6480\n",
      "Epoch 3/9\n",
      "16/16 [==============================] - 1s 46ms/step - loss: 1.4267 - accuracy: 0.7036 - val_loss: 1.3851 - val_accuracy: 0.6930\n",
      "Epoch 4/9\n",
      "16/16 [==============================] - 1s 44ms/step - loss: 1.1548 - accuracy: 0.7486 - val_loss: 1.2357 - val_accuracy: 0.7260\n",
      "Epoch 5/9\n",
      "16/16 [==============================] - 1s 43ms/step - loss: 0.9733 - accuracy: 0.7893 - val_loss: 1.1369 - val_accuracy: 0.7530\n",
      "Epoch 6/9\n",
      "16/16 [==============================] - 1s 37ms/step - loss: 0.8308 - accuracy: 0.8234 - val_loss: 1.0818 - val_accuracy: 0.7750\n",
      "Epoch 7/9\n",
      "16/16 [==============================] - 1s 40ms/step - loss: 0.7140 - accuracy: 0.8467 - val_loss: 1.0247 - val_accuracy: 0.7880\n",
      "Epoch 8/9\n",
      "16/16 [==============================] - 1s 42ms/step - loss: 0.6141 - accuracy: 0.8688 - val_loss: 0.9998 - val_accuracy: 0.7930\n",
      "Epoch 9/9\n",
      "16/16 [==============================] - 1s 37ms/step - loss: 0.5279 - accuracy: 0.8859 - val_loss: 0.9761 - val_accuracy: 0.7940\n",
      "71/71 [==============================] - 0s 5ms/step - loss: 1.0249 - accuracy: 0.7694\n"
     ]
    }
   ],
   "source": [
    "model = models.Sequential()\n",
    "model.add(layers.Dense(32, activation='relu', input_shape=(10000,)))\n",
    "model.add(layers.Dense(32, activation='relu'))\n",
    "model.add(layers.Dense(46, activation='softmax'))\n",
    "model.compile(optimizer='rmsprop', loss='categorical_crossentropy', metrics=['accuracy'])\n",
    "model.fit(partial_x_train, partial_y_train, epochs=9, batch_size=512, validation_data=(x_val, y_val))\n",
    "results = model.evaluate(x_test, one_hot_test_labels)"
   ]
  },
  {
   "cell_type": "code",
   "execution_count": 88,
   "metadata": {},
   "outputs": [
    {
     "data": {
      "text/plain": [
       "[1.0248914957046509, 0.7693677544593811]"
      ]
     },
     "execution_count": 88,
     "metadata": {},
     "output_type": "execute_result"
    }
   ],
   "source": [
    "results"
   ]
  },
  {
   "cell_type": "code",
   "execution_count": 89,
   "metadata": {},
   "outputs": [
    {
     "data": {
      "text/plain": [
       "array([[1.0394785e-05, 3.4453984e-05, 1.9872386e-06, ..., 1.4082101e-05,\n",
       "        5.0609046e-06, 4.2230672e-06],\n",
       "       [9.3450267e-03, 5.8737900e-02, 1.5923161e-02, ..., 1.9436935e-03,\n",
       "        7.3447218e-04, 5.1124516e-05],\n",
       "       [4.0173675e-03, 2.3075500e-01, 7.3836952e-02, ..., 6.6245361e-03,\n",
       "        1.9821425e-03, 3.3723452e-04],\n",
       "       ...,\n",
       "       [6.7652116e-05, 8.9018758e-05, 2.2945389e-05, ..., 4.6602272e-05,\n",
       "        6.3995620e-05, 2.7446875e-05],\n",
       "       [1.7795253e-03, 3.1178715e-03, 1.0976729e-03, ..., 3.7589399e-04,\n",
       "        5.1325531e-04, 4.7374427e-04],\n",
       "       [1.2618431e-03, 3.4344774e-01, 6.9524497e-02, ..., 8.6244853e-04,\n",
       "        4.8794725e-04, 3.0042356e-05]], dtype=float32)"
      ]
     },
     "execution_count": 89,
     "metadata": {},
     "output_type": "execute_result"
    }
   ],
   "source": [
    "model.predict(x_test)"
   ]
  },
  {
   "cell_type": "code",
   "execution_count": 90,
   "metadata": {},
   "outputs": [
    {
     "name": "stdout",
     "output_type": "stream",
     "text": [
      "Epoch 1/9\n",
      "16/16 [==============================] - 18s 1s/step - loss: 2.2290 - accuracy: 0.5155 - val_loss: 1.4408 - val_accuracy: 0.6750\n",
      "Epoch 2/9\n",
      "16/16 [==============================] - 3s 189ms/step - loss: 1.1722 - accuracy: 0.7428 - val_loss: 1.1386 - val_accuracy: 0.7580\n",
      "Epoch 3/9\n",
      "16/16 [==============================] - 5s 296ms/step - loss: 0.8181 - accuracy: 0.8270 - val_loss: 1.0013 - val_accuracy: 0.7930\n",
      "Epoch 4/9\n",
      "16/16 [==============================] - 3s 171ms/step - loss: 0.5822 - accuracy: 0.8737 - val_loss: 0.9411 - val_accuracy: 0.8020\n",
      "Epoch 5/9\n",
      "16/16 [==============================] - 2s 144ms/step - loss: 0.4262 - accuracy: 0.9085 - val_loss: 0.8814 - val_accuracy: 0.8140\n",
      "Epoch 6/9\n",
      "16/16 [==============================] - 2s 121ms/step - loss: 0.3230 - accuracy: 0.9297 - val_loss: 0.8680 - val_accuracy: 0.8180\n",
      "Epoch 7/9\n",
      "16/16 [==============================] - 2s 124ms/step - loss: 0.2501 - accuracy: 0.9420 - val_loss: 0.9483 - val_accuracy: 0.8010\n",
      "Epoch 8/9\n",
      "16/16 [==============================] - 2s 131ms/step - loss: 0.2105 - accuracy: 0.9478 - val_loss: 0.9204 - val_accuracy: 0.8080\n",
      "Epoch 9/9\n",
      "16/16 [==============================] - 2s 147ms/step - loss: 0.1828 - accuracy: 0.9519 - val_loss: 0.9213 - val_accuracy: 0.8160\n",
      "71/71 [==============================] - 1s 13ms/step - loss: 1.0344 - accuracy: 0.7939\n"
     ]
    }
   ],
   "source": [
    "model = models.Sequential()\n",
    "model.add(layers.Dense(128, activation='relu', input_shape=(10000,)))\n",
    "model.add(layers.Dense(128, activation='relu'))\n",
    "model.add(layers.Dense(46, activation='softmax'))\n",
    "model.compile(optimizer='rmsprop', loss='categorical_crossentropy', metrics=['accuracy'])\n",
    "model.fit(partial_x_train, partial_y_train, epochs=9, batch_size=512, validation_data=(x_val, y_val))\n",
    "results = model.evaluate(x_test, one_hot_test_labels)"
   ]
  },
  {
   "cell_type": "markdown",
   "metadata": {},
   "source": [
    "## Predicting house prices: a regression example\n",
    "### The Boston Housing Price dataset"
   ]
  },
  {
   "cell_type": "code",
   "execution_count": 91,
   "metadata": {},
   "outputs": [],
   "source": [
    "# Boston Housing Price dataset: predict the median price of homes in a given Boston suburb in the\n",
    "    # mid-1970s, given data points about the suburb at the time, such as the crime rate, the\n",
    "    # local property tax rate, and so on\n",
    "# Loading the Boston housing dataset\n",
    "(train_data, train_targets), (test_data, test_targets) = boston_housing.load_data()"
   ]
  },
  {
   "cell_type": "code",
   "execution_count": 92,
   "metadata": {},
   "outputs": [
    {
     "data": {
      "text/plain": [
       "(404, 13)"
      ]
     },
     "execution_count": 92,
     "metadata": {},
     "output_type": "execute_result"
    }
   ],
   "source": [
    "train_data.shape"
   ]
  },
  {
   "cell_type": "code",
   "execution_count": 93,
   "metadata": {},
   "outputs": [
    {
     "data": {
      "text/plain": [
       "(102, 13)"
      ]
     },
     "execution_count": 93,
     "metadata": {},
     "output_type": "execute_result"
    }
   ],
   "source": [
    "test_data.shape"
   ]
  },
  {
   "cell_type": "code",
   "execution_count": 94,
   "metadata": {},
   "outputs": [
    {
     "data": {
      "text/plain": [
       "array([15.2, 42.3, 50. , 21.1, 17.7, 18.5, 11.3, 15.6, 15.6, 14.4, 12.1,\n",
       "       17.9, 23.1, 19.9, 15.7,  8.8, 50. , 22.5, 24.1, 27.5, 10.9, 30.8,\n",
       "       32.9, 24. , 18.5, 13.3, 22.9, 34.7, 16.6, 17.5, 22.3, 16.1, 14.9,\n",
       "       23.1, 34.9, 25. , 13.9, 13.1, 20.4, 20. , 15.2, 24.7, 22.2, 16.7,\n",
       "       12.7, 15.6, 18.4, 21. , 30.1, 15.1, 18.7,  9.6, 31.5, 24.8, 19.1,\n",
       "       22. , 14.5, 11. , 32. , 29.4, 20.3, 24.4, 14.6, 19.5, 14.1, 14.3,\n",
       "       15.6, 10.5,  6.3, 19.3, 19.3, 13.4, 36.4, 17.8, 13.5, 16.5,  8.3,\n",
       "       14.3, 16. , 13.4, 28.6, 43.5, 20.2, 22. , 23. , 20.7, 12.5, 48.5,\n",
       "       14.6, 13.4, 23.7, 50. , 21.7, 39.8, 38.7, 22.2, 34.9, 22.5, 31.1,\n",
       "       28.7, 46. , 41.7, 21. , 26.6, 15. , 24.4, 13.3, 21.2, 11.7, 21.7,\n",
       "       19.4, 50. , 22.8, 19.7, 24.7, 36.2, 14.2, 18.9, 18.3, 20.6, 24.6,\n",
       "       18.2,  8.7, 44. , 10.4, 13.2, 21.2, 37. , 30.7, 22.9, 20. , 19.3,\n",
       "       31.7, 32. , 23.1, 18.8, 10.9, 50. , 19.6,  5. , 14.4, 19.8, 13.8,\n",
       "       19.6, 23.9, 24.5, 25. , 19.9, 17.2, 24.6, 13.5, 26.6, 21.4, 11.9,\n",
       "       22.6, 19.6,  8.5, 23.7, 23.1, 22.4, 20.5, 23.6, 18.4, 35.2, 23.1,\n",
       "       27.9, 20.6, 23.7, 28. , 13.6, 27.1, 23.6, 20.6, 18.2, 21.7, 17.1,\n",
       "        8.4, 25.3, 13.8, 22.2, 18.4, 20.7, 31.6, 30.5, 20.3,  8.8, 19.2,\n",
       "       19.4, 23.1, 23. , 14.8, 48.8, 22.6, 33.4, 21.1, 13.6, 32.2, 13.1,\n",
       "       23.4, 18.9, 23.9, 11.8, 23.3, 22.8, 19.6, 16.7, 13.4, 22.2, 20.4,\n",
       "       21.8, 26.4, 14.9, 24.1, 23.8, 12.3, 29.1, 21. , 19.5, 23.3, 23.8,\n",
       "       17.8, 11.5, 21.7, 19.9, 25. , 33.4, 28.5, 21.4, 24.3, 27.5, 33.1,\n",
       "       16.2, 23.3, 48.3, 22.9, 22.8, 13.1, 12.7, 22.6, 15. , 15.3, 10.5,\n",
       "       24. , 18.5, 21.7, 19.5, 33.2, 23.2,  5. , 19.1, 12.7, 22.3, 10.2,\n",
       "       13.9, 16.3, 17. , 20.1, 29.9, 17.2, 37.3, 45.4, 17.8, 23.2, 29. ,\n",
       "       22. , 18. , 17.4, 34.6, 20.1, 25. , 15.6, 24.8, 28.2, 21.2, 21.4,\n",
       "       23.8, 31. , 26.2, 17.4, 37.9, 17.5, 20. ,  8.3, 23.9,  8.4, 13.8,\n",
       "        7.2, 11.7, 17.1, 21.6, 50. , 16.1, 20.4, 20.6, 21.4, 20.6, 36.5,\n",
       "        8.5, 24.8, 10.8, 21.9, 17.3, 18.9, 36.2, 14.9, 18.2, 33.3, 21.8,\n",
       "       19.7, 31.6, 24.8, 19.4, 22.8,  7.5, 44.8, 16.8, 18.7, 50. , 50. ,\n",
       "       19.5, 20.1, 50. , 17.2, 20.8, 19.3, 41.3, 20.4, 20.5, 13.8, 16.5,\n",
       "       23.9, 20.6, 31.5, 23.3, 16.8, 14. , 33.8, 36.1, 12.8, 18.3, 18.7,\n",
       "       19.1, 29. , 30.1, 50. , 50. , 22. , 11.9, 37.6, 50. , 22.7, 20.8,\n",
       "       23.5, 27.9, 50. , 19.3, 23.9, 22.6, 15.2, 21.7, 19.2, 43.8, 20.3,\n",
       "       33.2, 19.9, 22.5, 32.7, 22. , 17.1, 19. , 15. , 16.1, 25.1, 23.7,\n",
       "       28.7, 37.2, 22.6, 16.4, 25. , 29.8, 22.1, 17.4, 18.1, 30.3, 17.5,\n",
       "       24.7, 12.6, 26.5, 28.7, 13.3, 10.4, 24.4, 23. , 20. , 17.8,  7. ,\n",
       "       11.8, 24.4, 13.8, 19.4, 25.2, 19.4, 19.4, 29.1])"
      ]
     },
     "execution_count": 94,
     "metadata": {},
     "output_type": "execute_result"
    }
   ],
   "source": [
    "# prices are typically between $10,000 and $50,000\n",
    "train_targets"
   ]
  },
  {
   "cell_type": "code",
   "execution_count": 95,
   "metadata": {},
   "outputs": [],
   "source": [
    "# It would be problematic to feed into a neural network values that all take wildly different ranges\n",
    "# Normalizing the data\n",
    "mean = train_data.mean(axis=0)\n",
    "train_data -= mean\n",
    "std = train_data.std(axis=0)\n",
    "train_data /= std\n",
    "test_data -= mean\n",
    "test_data /= std"
   ]
  },
  {
   "cell_type": "code",
   "execution_count": 96,
   "metadata": {},
   "outputs": [],
   "source": [
    "# Model definition\n",
    "def build_model():\n",
    "    model = models.Sequential()\n",
    "    model.add(layers.Dense(64, activation='relu', input_shape=(train_data.shape[1],)))\n",
    "    model.add(layers.Dense(64, activation='relu'))\n",
    "    model.add(layers.Dense(1))\n",
    "    model.compile(optimizer='rmsprop', loss='mse', metrics=['mae'])\n",
    "    return model"
   ]
  },
  {
   "cell_type": "code",
   "execution_count": 95,
   "metadata": {},
   "outputs": [
    {
     "name": "stdout",
     "output_type": "stream",
     "text": [
      "processing fold # 0\n",
      "processing fold # 1\n",
      "processing fold # 2\n",
      "processing fold # 3\n"
     ]
    }
   ],
   "source": [
    "# K-fold validation\n",
    "k=4\n",
    "num_val_samples = len(train_data) // k\n",
    "num_epochs = 100\n",
    "all_scores = []\n",
    "for i in range(k):\n",
    "    print('processing fold #', i)\n",
    "    val_data = train_data[i * num_val_samples: (i + 1) * num_val_samples] # Prepares the validation data: data from partition #k\n",
    "    val_targets = train_targets[i * num_val_samples: (i + 1) * num_val_samples]\n",
    "    partial_train_data = np.concatenate([train_data[:i * num_val_samples],train_data[(i + 1) * num_val_samples:]],axis=0) # Prepares the training data: data from all other partitions\n",
    "    partial_train_targets = np.concatenate([train_targets[:i * num_val_samples],train_targets[(i + 1) * num_val_samples:]],axis=0)\n",
    "    model = build_model() # Builds the Keras model (already compiled)\n",
    "    model.fit(partial_train_data, partial_train_targets,epochs=num_epochs, batch_size=1, verbose=0) # Trains the model (in silent mode, verbose = 0)\n",
    "    val_mse, val_mae = model.evaluate(val_data, val_targets, verbose=0) # Evaluates the model on the validation data\n",
    "    all_scores.append(val_mae)"
   ]
  },
  {
   "cell_type": "code",
   "execution_count": 96,
   "metadata": {},
   "outputs": [
    {
     "data": {
      "text/plain": [
       "[2.071929454803467, 2.8327410221099854, 2.794664144515991, 2.6851916313171387]"
      ]
     },
     "execution_count": 96,
     "metadata": {},
     "output_type": "execute_result"
    }
   ],
   "source": [
    "all_scores\n",
    "# different runs do indeed show rather different validation scores, from 2.0 to 2.8.\n",
    "    # The average (2.6) is a much more reliable metric than any single score—that’s the\n",
    "    # entire point of K-fold cross-validation. In this case, you’re off by $2600 on average,\n",
    "    # which is significant considering that the prices range from $10,000 to $50,000."
   ]
  },
  {
   "cell_type": "code",
   "execution_count": 97,
   "metadata": {},
   "outputs": [
    {
     "data": {
      "text/plain": [
       "2.5961315631866455"
      ]
     },
     "execution_count": 97,
     "metadata": {},
     "output_type": "execute_result"
    }
   ],
   "source": [
    "np.mean(all_scores)"
   ]
  },
  {
   "cell_type": "code",
   "execution_count": 102,
   "metadata": {},
   "outputs": [
    {
     "name": "stdout",
     "output_type": "stream",
     "text": [
      "processing fold # 0\n",
      "processing fold # 1\n",
      "processing fold # 2\n",
      "processing fold # 3\n"
     ]
    }
   ],
   "source": [
    "# try training the network a bit longer: 500 epochs\n",
    "# Saving the validation logs at each fold\n",
    "num_epochs = 500\n",
    "all_mae_histories = []\n",
    "for i in range(k):\n",
    "    print('processing fold #', i)\n",
    "    val_data = train_data[i * num_val_samples: (i + 1) * num_val_samples] # Prepares the validation data: data from partition #k\n",
    "    val_targets = train_targets[i * num_val_samples: (i + 1) * num_val_samples]\n",
    "    partial_train_data = np.concatenate([train_data[:i * num_val_samples],train_data[(i + 1) * num_val_samples:]],axis=0) # # Prepares the training data: data from all other partitions\n",
    "    partial_train_targets = np.concatenate([train_targets[:i * num_val_samples],train_targets[(i + 1) * num_val_samples:]],axis=0)\n",
    "    model = build_model() # Builds the Keras model (already compiled)\n",
    "    history = model.fit(partial_train_data, partial_train_targets,validation_data=(val_data, val_targets),epochs=num_epochs, batch_size=1, verbose=0) # Trains the model (in silent mode, verbose = 0)\n",
    "    mae_history = history.history['val_mae']\n",
    "    all_mae_histories.append(mae_history)"
   ]
  },
  {
   "cell_type": "code",
   "execution_count": 103,
   "metadata": {},
   "outputs": [
    {
     "data": {
      "text/plain": [
       "dict_keys(['loss', 'mae', 'val_loss', 'val_mae'])"
      ]
     },
     "execution_count": 103,
     "metadata": {},
     "output_type": "execute_result"
    }
   ],
   "source": [
    "# the call to model.fit() returns a History object. This object has a member history, \n",
    "    # which is a dictionary containing data about everything that happened during training\n",
    "history_dict = history.history\n",
    "history_dict.keys()"
   ]
  },
  {
   "cell_type": "code",
   "execution_count": 104,
   "metadata": {},
   "outputs": [],
   "source": [
    "# Building the history of successive mean K-fold validation scores\n",
    "average_mae_history = [np.mean([x[i] for x in all_mae_histories]) for i in range(num_epochs)]"
   ]
  },
  {
   "cell_type": "code",
   "execution_count": 105,
   "metadata": {},
   "outputs": [
    {
     "data": {
      "image/png": "[encoded data removed]",
      "text/plain": [
       "<Figure size 432x288 with 1 Axes>"
      ]
     },
     "metadata": {
      "needs_background": "light"
     },
     "output_type": "display_data"
    }
   ],
   "source": [
    "# Plotting validation scores\n",
    "plt.plot(range(1, len(average_mae_history) + 1), average_mae_history)\n",
    "plt.xlabel('Epochs')\n",
    "plt.ylabel('Validation MAE')\n",
    "plt.show()"
   ]
  },
  {
   "cell_type": "code",
   "execution_count": 106,
   "metadata": {},
   "outputs": [
    {
     "data": {
      "image/png": "[encoded data removed]",
      "text/plain": [
       "<Figure size 432x288 with 1 Axes>"
      ]
     },
     "metadata": {
      "needs_background": "light"
     },
     "output_type": "display_data"
    }
   ],
   "source": [
    "# Plotting validation scores, excluding the first 10 data points\n",
    "def smooth_curve(points, factor=0.9):\n",
    "    smoothed_points = []\n",
    "    for point in points:\n",
    "        if smoothed_points:\n",
    "            previous = smoothed_points[-1]\n",
    "            smoothed_points.append(previous * factor + point * (1 - factor))\n",
    "        else:\n",
    "            smoothed_points.append(point)\n",
    "    return smoothed_points\n",
    "smooth_mae_history = smooth_curve(average_mae_history[10:])\n",
    "plt.plot(range(1, len(smooth_mae_history) + 1), smooth_mae_history)\n",
    "plt.xlabel('Epochs')\n",
    "plt.ylabel('Validation MAE')\n",
    "plt.show()"
   ]
  },
  {
   "cell_type": "code",
   "execution_count": 107,
   "metadata": {},
   "outputs": [
    {
     "name": "stdout",
     "output_type": "stream",
     "text": [
      "4/4 [==============================] - 0s 6ms/step - loss: 18.7271 - mae: 2.9375\n"
     ]
    }
   ],
   "source": [
    "# Training the final model\n",
    "model = build_model() # Gets a fresh, compiled model\n",
    "model.fit(train_data, train_targets,epochs=80, batch_size=16, verbose=0) # Trains it on the entirety of the data\n",
    "test_mse_score, test_mae_score = model.evaluate(test_data, test_targets)"
   ]
  },
  {
   "cell_type": "code",
   "execution_count": 108,
   "metadata": {},
   "outputs": [
    {
     "data": {
      "text/plain": [
       "2.93747615814209"
      ]
     },
     "execution_count": 108,
     "metadata": {},
     "output_type": "execute_result"
    }
   ],
   "source": [
    "test_mae_score"
   ]
  }
 ],
 "metadata": {
  "interpreter": {
   "hash": "066093cf3c399d5c30a34c1d2f9e18e8fdd115ea2f01c01bdea7f7d18ba600a2"
  },
  "kernelspec": {
   "display_name": "Python 3.7.4 ('venv': venv)",
   "language": "python",
   "name": "python3"
  },
  "language_info": {
   "codemirror_mode": {
    "name": "ipython",
    "version": 3
   },
   "file_extension": ".py",
   "mimetype": "text/x-python",
   "name": "python",
   "nbconvert_exporter": "python",
   "pygments_lexer": "ipython3",
   "version": "3.7.4"
  },
  "orig_nbformat": 4
 },
 "nbformat": 4,
 "nbformat_minor": 2
}
