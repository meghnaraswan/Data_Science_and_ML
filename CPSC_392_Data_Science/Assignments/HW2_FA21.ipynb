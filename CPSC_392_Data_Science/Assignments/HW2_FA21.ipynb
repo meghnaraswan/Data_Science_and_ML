{
 "cells": [
  {
   "cell_type": "markdown",
   "metadata": {},
   "source": [
    "# HW2\n",
    "\n",
    "## GENERAL INSTRUCTIONS:\n",
    "\n",
    "- CLEARLY mark where you are answering each question (all questions must be answered in Markdown cells, NOT as comments in code cells)\n",
    "- Show all code necessary for the analysis, but remove superfluous code\n",
    "\n",
    "---\n",
    "\n",
    "Use the [Loan Dataset](https://raw.githubusercontent.com/cmparlettpelleriti/CPSC392ParlettPelleriti/master/Data/HW2.csv) on GitHub to build the classification models described below.\n",
    "\n",
    "## Variable Descriptions:\n",
    "- `age`: age in years of person.\n",
    "- `had_cancer`: 0 if the person has NOT had cancer or has cancer, 1 if they have.\n",
    "- `gender_id`: `Male`, `Female`, `Non-Binary`, or `Survey Choices Do Not Accurately Reflect My Identity`.\n",
    "- `income_in_k`: income in thousands of dollars.\n",
    "- `state`: state person lives in.\n",
    "- `credit_score`: credit score.\n",
    "- `num_credit_sources`: number of sources of credit (includes credit cards, loans, car payments...etc).\n",
    "- `utilization_rate`: the % of a person's total credit they use on average each month. For example if you have 10,000 dollars in available credit, and use 2,000 your utilization rate would be 0.2 (20%).\n",
    "- `gave_loan`: whether or not the person got a loan.\n",
    "\n",
    "## Instructions\n",
    "1. *Build a KNN, Decision Tree, AND Logistic Regression model to predict whether or not someone got a loan (total of 3 models).*\n",
    "    - If a variable/predictor has more than 2 categories, use `get_dummies()` to convert them into dummy variables (don't forget to remove the original column when training!).\n",
    "    - Use the KFold() function with 5 folds (use the same KF for-loop to fit all three models, i.e. there should only be one KFold loop where you fit 3 models)\n",
    "    - Z-score your continuous variables only (interval data like age...etc can be counted as continuous)\n",
    "    - For KNN, include only *continuous/interval* columns as predictors. For Decision Tree and Logistic Regression use ALL columns (other than `gave_loan`).\n",
    "    - For KNN, choose K by using grid search.\n",
    "    - For Decision Trees, use grid search to choose max_depth, and check for overfitting.\n",
    "    - Record the Train/Test accuracies, and print out confusion matrices.\n",
    "    \n",
    "    \n",
    "    \n",
    "2. *Evaluate Your Models (ANSWER IN MARKDOWN CELL)*\n",
    "    - A) Using accuracy and confusion matrices, **which model did best, how can you tell?**\n",
    "    - B) **Are there differences in how well the three models you made in part 1 do for different gender IDs? (do not make new models, use the models from before)**\n",
    "    - C) **Are your models better at predicting people who got loans, or didn't get loans? How can you tell? What are the possible implications of this**"
   ]
  },
  {
   "cell_type": "code",
   "execution_count": 175,
   "metadata": {},
   "outputs": [],
   "source": [
    "# import necessary packages\n",
    "import warnings\n",
    "warnings.filterwarnings('ignore')\n",
    "\n",
    "import pandas as pd\n",
    "import numpy as np\n",
    "from plotnine import *\n",
    "import statsmodels.api as sm\n",
    "\n",
    "from sklearn.linear_model import LogisticRegression # Logistic Regression Model\n",
    "from sklearn.preprocessing import StandardScaler #Z-score variables\n",
    "from sklearn.metrics import mean_squared_error, r2_score, accuracy_score #model evaluation\n",
    "\n",
    "from sklearn.model_selection import train_test_split # simple TT split cv\n",
    "from sklearn.model_selection import KFold # k-fold cv\n",
    "from sklearn.model_selection import cross_val_score # cross validation metrics\n",
    "from sklearn.model_selection import cross_val_predict # cross validation metrics\n",
    "\n",
    "from sklearn.tree import DecisionTreeClassifier # Decision Tree\n",
    "from sklearn import metrics \n",
    "\n",
    "from sklearn.model_selection import LeaveOneOut #LOO cv\n",
    "from sklearn.metrics import accuracy_score, confusion_matrix\n",
    "from sklearn.metrics import plot_confusion_matrix\n",
    "\n",
    "from sklearn.neighbors import KNeighborsClassifier\n",
    "from sklearn.model_selection import train_test_split\n",
    "from sklearn.model_selection import GridSearchCV\n",
    "\n",
    "%precision %.7g\n",
    "%matplotlib inline"
   ]
  },
  {
   "cell_type": "code",
   "execution_count": 176,
   "metadata": {},
   "outputs": [
    {
     "data": {
      "text/html": [
       "<div>\n",
       "<style scoped>\n",
       "    .dataframe tbody tr th:only-of-type {\n",
       "        vertical-align: middle;\n",
       "    }\n",
       "\n",
       "    .dataframe tbody tr th {\n",
       "        vertical-align: top;\n",
       "    }\n",
       "\n",
       "    .dataframe thead th {\n",
       "        text-align: right;\n",
       "    }\n",
       "</style>\n",
       "<table border=\"1\" class=\"dataframe\">\n",
       "  <thead>\n",
       "    <tr style=\"text-align: right;\">\n",
       "      <th></th>\n",
       "      <th>age</th>\n",
       "      <th>had_cancer</th>\n",
       "      <th>gender_id</th>\n",
       "      <th>income_in_k</th>\n",
       "      <th>state</th>\n",
       "      <th>credit_score</th>\n",
       "      <th>num_credit_sources</th>\n",
       "      <th>utilization_rate</th>\n",
       "      <th>gave_loan</th>\n",
       "    </tr>\n",
       "  </thead>\n",
       "  <tbody>\n",
       "    <tr>\n",
       "      <th>0</th>\n",
       "      <td>39</td>\n",
       "      <td>0</td>\n",
       "      <td>Female</td>\n",
       "      <td>54</td>\n",
       "      <td>TX</td>\n",
       "      <td>448</td>\n",
       "      <td>4</td>\n",
       "      <td>0.32</td>\n",
       "      <td>0</td>\n",
       "    </tr>\n",
       "    <tr>\n",
       "      <th>1</th>\n",
       "      <td>43</td>\n",
       "      <td>0</td>\n",
       "      <td>Female</td>\n",
       "      <td>66</td>\n",
       "      <td>NJ</td>\n",
       "      <td>399</td>\n",
       "      <td>4</td>\n",
       "      <td>0.35</td>\n",
       "      <td>0</td>\n",
       "    </tr>\n",
       "    <tr>\n",
       "      <th>2</th>\n",
       "      <td>42</td>\n",
       "      <td>0</td>\n",
       "      <td>Male</td>\n",
       "      <td>50</td>\n",
       "      <td>NE</td>\n",
       "      <td>509</td>\n",
       "      <td>8</td>\n",
       "      <td>0.23</td>\n",
       "      <td>0</td>\n",
       "    </tr>\n",
       "    <tr>\n",
       "      <th>3</th>\n",
       "      <td>46</td>\n",
       "      <td>0</td>\n",
       "      <td>Female</td>\n",
       "      <td>79</td>\n",
       "      <td>TX</td>\n",
       "      <td>540</td>\n",
       "      <td>6</td>\n",
       "      <td>0.15</td>\n",
       "      <td>0</td>\n",
       "    </tr>\n",
       "    <tr>\n",
       "      <th>4</th>\n",
       "      <td>43</td>\n",
       "      <td>0</td>\n",
       "      <td>Female</td>\n",
       "      <td>49</td>\n",
       "      <td>NV</td>\n",
       "      <td>485</td>\n",
       "      <td>10</td>\n",
       "      <td>0.20</td>\n",
       "      <td>0</td>\n",
       "    </tr>\n",
       "  </tbody>\n",
       "</table>\n",
       "</div>"
      ],
      "text/plain": [
       "   age  had_cancer gender_id  income_in_k state  credit_score  \\\n",
       "0   39           0    Female           54    TX           448   \n",
       "1   43           0    Female           66    NJ           399   \n",
       "2   42           0      Male           50    NE           509   \n",
       "3   46           0    Female           79    TX           540   \n",
       "4   43           0    Female           49    NV           485   \n",
       "\n",
       "   num_credit_sources  utilization_rate  gave_loan  \n",
       "0                   4              0.32          0  \n",
       "1                   4              0.35          0  \n",
       "2                   8              0.23          0  \n",
       "3                   6              0.15          0  \n",
       "4                  10              0.20          0  "
      ]
     },
     "execution_count": 176,
     "metadata": {},
     "output_type": "execute_result"
    }
   ],
   "source": [
    "# importing data\n",
    "loanDF = pd.read_csv(\"/Users/iman/CPSC_Courses/CPSC392ParlettPelleriti/Data/HW2.csv\")\n",
    "loanDF.head()"
   ]
  },
  {
   "cell_type": "markdown",
   "metadata": {},
   "source": [
    "## 1. Build a *KNN*, *Decision Tree*, AND *Logistic Regression model* to predict whether or not someone got a loan (total of 3 models)."
   ]
  },
  {
   "cell_type": "markdown",
   "metadata": {},
   "source": [
    "### If a variable/predictor has more than 2 categories, use `get_dummies()` to convert them into dummy variables (don't forget to remove the original column when training!)."
   ]
  },
  {
   "cell_type": "code",
   "execution_count": 177,
   "metadata": {},
   "outputs": [
    {
     "data": {
      "text/html": [
       "<div>\n",
       "<style scoped>\n",
       "    .dataframe tbody tr th:only-of-type {\n",
       "        vertical-align: middle;\n",
       "    }\n",
       "\n",
       "    .dataframe tbody tr th {\n",
       "        vertical-align: top;\n",
       "    }\n",
       "\n",
       "    .dataframe thead th {\n",
       "        text-align: right;\n",
       "    }\n",
       "</style>\n",
       "<table border=\"1\" class=\"dataframe\">\n",
       "  <thead>\n",
       "    <tr style=\"text-align: right;\">\n",
       "      <th></th>\n",
       "      <th>age</th>\n",
       "      <th>had_cancer</th>\n",
       "      <th>gender_id</th>\n",
       "      <th>income_in_k</th>\n",
       "      <th>state</th>\n",
       "      <th>credit_score</th>\n",
       "      <th>num_credit_sources</th>\n",
       "      <th>utilization_rate</th>\n",
       "      <th>gave_loan</th>\n",
       "      <th>Female</th>\n",
       "      <th>...</th>\n",
       "      <th>SD</th>\n",
       "      <th>TN</th>\n",
       "      <th>TX</th>\n",
       "      <th>UT</th>\n",
       "      <th>VA</th>\n",
       "      <th>VT</th>\n",
       "      <th>WA</th>\n",
       "      <th>WI</th>\n",
       "      <th>WV</th>\n",
       "      <th>WY</th>\n",
       "    </tr>\n",
       "  </thead>\n",
       "  <tbody>\n",
       "    <tr>\n",
       "      <th>0</th>\n",
       "      <td>39</td>\n",
       "      <td>0</td>\n",
       "      <td>Female</td>\n",
       "      <td>54</td>\n",
       "      <td>TX</td>\n",
       "      <td>448</td>\n",
       "      <td>4</td>\n",
       "      <td>0.32</td>\n",
       "      <td>0</td>\n",
       "      <td>1</td>\n",
       "      <td>...</td>\n",
       "      <td>0</td>\n",
       "      <td>0</td>\n",
       "      <td>1</td>\n",
       "      <td>0</td>\n",
       "      <td>0</td>\n",
       "      <td>0</td>\n",
       "      <td>0</td>\n",
       "      <td>0</td>\n",
       "      <td>0</td>\n",
       "      <td>0</td>\n",
       "    </tr>\n",
       "    <tr>\n",
       "      <th>1</th>\n",
       "      <td>43</td>\n",
       "      <td>0</td>\n",
       "      <td>Female</td>\n",
       "      <td>66</td>\n",
       "      <td>NJ</td>\n",
       "      <td>399</td>\n",
       "      <td>4</td>\n",
       "      <td>0.35</td>\n",
       "      <td>0</td>\n",
       "      <td>1</td>\n",
       "      <td>...</td>\n",
       "      <td>0</td>\n",
       "      <td>0</td>\n",
       "      <td>0</td>\n",
       "      <td>0</td>\n",
       "      <td>0</td>\n",
       "      <td>0</td>\n",
       "      <td>0</td>\n",
       "      <td>0</td>\n",
       "      <td>0</td>\n",
       "      <td>0</td>\n",
       "    </tr>\n",
       "    <tr>\n",
       "      <th>2</th>\n",
       "      <td>42</td>\n",
       "      <td>0</td>\n",
       "      <td>Male</td>\n",
       "      <td>50</td>\n",
       "      <td>NE</td>\n",
       "      <td>509</td>\n",
       "      <td>8</td>\n",
       "      <td>0.23</td>\n",
       "      <td>0</td>\n",
       "      <td>0</td>\n",
       "      <td>...</td>\n",
       "      <td>0</td>\n",
       "      <td>0</td>\n",
       "      <td>0</td>\n",
       "      <td>0</td>\n",
       "      <td>0</td>\n",
       "      <td>0</td>\n",
       "      <td>0</td>\n",
       "      <td>0</td>\n",
       "      <td>0</td>\n",
       "      <td>0</td>\n",
       "    </tr>\n",
       "    <tr>\n",
       "      <th>3</th>\n",
       "      <td>46</td>\n",
       "      <td>0</td>\n",
       "      <td>Female</td>\n",
       "      <td>79</td>\n",
       "      <td>TX</td>\n",
       "      <td>540</td>\n",
       "      <td>6</td>\n",
       "      <td>0.15</td>\n",
       "      <td>0</td>\n",
       "      <td>1</td>\n",
       "      <td>...</td>\n",
       "      <td>0</td>\n",
       "      <td>0</td>\n",
       "      <td>1</td>\n",
       "      <td>0</td>\n",
       "      <td>0</td>\n",
       "      <td>0</td>\n",
       "      <td>0</td>\n",
       "      <td>0</td>\n",
       "      <td>0</td>\n",
       "      <td>0</td>\n",
       "    </tr>\n",
       "    <tr>\n",
       "      <th>4</th>\n",
       "      <td>43</td>\n",
       "      <td>0</td>\n",
       "      <td>Female</td>\n",
       "      <td>49</td>\n",
       "      <td>NV</td>\n",
       "      <td>485</td>\n",
       "      <td>10</td>\n",
       "      <td>0.20</td>\n",
       "      <td>0</td>\n",
       "      <td>1</td>\n",
       "      <td>...</td>\n",
       "      <td>0</td>\n",
       "      <td>0</td>\n",
       "      <td>0</td>\n",
       "      <td>0</td>\n",
       "      <td>0</td>\n",
       "      <td>0</td>\n",
       "      <td>0</td>\n",
       "      <td>0</td>\n",
       "      <td>0</td>\n",
       "      <td>0</td>\n",
       "    </tr>\n",
       "  </tbody>\n",
       "</table>\n",
       "<p>5 rows × 63 columns</p>\n",
       "</div>"
      ],
      "text/plain": [
       "   age  had_cancer gender_id  income_in_k state  credit_score  \\\n",
       "0   39           0    Female           54    TX           448   \n",
       "1   43           0    Female           66    NJ           399   \n",
       "2   42           0      Male           50    NE           509   \n",
       "3   46           0    Female           79    TX           540   \n",
       "4   43           0    Female           49    NV           485   \n",
       "\n",
       "   num_credit_sources  utilization_rate  gave_loan  Female  ...  SD  TN  TX  \\\n",
       "0                   4              0.32          0       1  ...   0   0   1   \n",
       "1                   4              0.35          0       1  ...   0   0   0   \n",
       "2                   8              0.23          0       0  ...   0   0   0   \n",
       "3                   6              0.15          0       1  ...   0   0   1   \n",
       "4                  10              0.20          0       1  ...   0   0   0   \n",
       "\n",
       "   UT  VA  VT  WA  WI  WV  WY  \n",
       "0   0   0   0   0   0   0   0  \n",
       "1   0   0   0   0   0   0   0  \n",
       "2   0   0   0   0   0   0   0  \n",
       "3   0   0   0   0   0   0   0  \n",
       "4   0   0   0   0   0   0   0  \n",
       "\n",
       "[5 rows x 63 columns]"
      ]
     },
     "execution_count": 177,
     "metadata": {},
     "output_type": "execute_result"
    }
   ],
   "source": [
    "# make gender identity and state columns\n",
    "genderIdDummies = pd.get_dummies(loanDF[\"gender_id\"])\n",
    "stateDummies = pd.get_dummies(loanDF[\"state\"])\n",
    "\n",
    "loanDF = pd.concat([loanDF,genderIdDummies], axis = 1) \n",
    "loanDF = pd.concat([loanDF,stateDummies], axis = 1) \n",
    "\n",
    "# show the new columns that were added\n",
    "loanDF.head()"
   ]
  },
  {
   "cell_type": "code",
   "execution_count": 178,
   "metadata": {},
   "outputs": [
    {
     "data": {
      "text/html": [
       "<div>\n",
       "<style scoped>\n",
       "    .dataframe tbody tr th:only-of-type {\n",
       "        vertical-align: middle;\n",
       "    }\n",
       "\n",
       "    .dataframe tbody tr th {\n",
       "        vertical-align: top;\n",
       "    }\n",
       "\n",
       "    .dataframe thead th {\n",
       "        text-align: right;\n",
       "    }\n",
       "</style>\n",
       "<table border=\"1\" class=\"dataframe\">\n",
       "  <thead>\n",
       "    <tr style=\"text-align: right;\">\n",
       "      <th></th>\n",
       "      <th>age</th>\n",
       "      <th>had_cancer</th>\n",
       "      <th>income_in_k</th>\n",
       "      <th>credit_score</th>\n",
       "      <th>num_credit_sources</th>\n",
       "      <th>utilization_rate</th>\n",
       "      <th>gave_loan</th>\n",
       "      <th>Female</th>\n",
       "      <th>Male</th>\n",
       "      <th>Non-Binary</th>\n",
       "      <th>...</th>\n",
       "      <th>SD</th>\n",
       "      <th>TN</th>\n",
       "      <th>TX</th>\n",
       "      <th>UT</th>\n",
       "      <th>VA</th>\n",
       "      <th>VT</th>\n",
       "      <th>WA</th>\n",
       "      <th>WI</th>\n",
       "      <th>WV</th>\n",
       "      <th>WY</th>\n",
       "    </tr>\n",
       "  </thead>\n",
       "  <tbody>\n",
       "    <tr>\n",
       "      <th>0</th>\n",
       "      <td>39</td>\n",
       "      <td>0</td>\n",
       "      <td>54</td>\n",
       "      <td>448</td>\n",
       "      <td>4</td>\n",
       "      <td>0.32</td>\n",
       "      <td>0</td>\n",
       "      <td>1</td>\n",
       "      <td>0</td>\n",
       "      <td>0</td>\n",
       "      <td>...</td>\n",
       "      <td>0</td>\n",
       "      <td>0</td>\n",
       "      <td>1</td>\n",
       "      <td>0</td>\n",
       "      <td>0</td>\n",
       "      <td>0</td>\n",
       "      <td>0</td>\n",
       "      <td>0</td>\n",
       "      <td>0</td>\n",
       "      <td>0</td>\n",
       "    </tr>\n",
       "    <tr>\n",
       "      <th>1</th>\n",
       "      <td>43</td>\n",
       "      <td>0</td>\n",
       "      <td>66</td>\n",
       "      <td>399</td>\n",
       "      <td>4</td>\n",
       "      <td>0.35</td>\n",
       "      <td>0</td>\n",
       "      <td>1</td>\n",
       "      <td>0</td>\n",
       "      <td>0</td>\n",
       "      <td>...</td>\n",
       "      <td>0</td>\n",
       "      <td>0</td>\n",
       "      <td>0</td>\n",
       "      <td>0</td>\n",
       "      <td>0</td>\n",
       "      <td>0</td>\n",
       "      <td>0</td>\n",
       "      <td>0</td>\n",
       "      <td>0</td>\n",
       "      <td>0</td>\n",
       "    </tr>\n",
       "    <tr>\n",
       "      <th>2</th>\n",
       "      <td>42</td>\n",
       "      <td>0</td>\n",
       "      <td>50</td>\n",
       "      <td>509</td>\n",
       "      <td>8</td>\n",
       "      <td>0.23</td>\n",
       "      <td>0</td>\n",
       "      <td>0</td>\n",
       "      <td>1</td>\n",
       "      <td>0</td>\n",
       "      <td>...</td>\n",
       "      <td>0</td>\n",
       "      <td>0</td>\n",
       "      <td>0</td>\n",
       "      <td>0</td>\n",
       "      <td>0</td>\n",
       "      <td>0</td>\n",
       "      <td>0</td>\n",
       "      <td>0</td>\n",
       "      <td>0</td>\n",
       "      <td>0</td>\n",
       "    </tr>\n",
       "    <tr>\n",
       "      <th>3</th>\n",
       "      <td>46</td>\n",
       "      <td>0</td>\n",
       "      <td>79</td>\n",
       "      <td>540</td>\n",
       "      <td>6</td>\n",
       "      <td>0.15</td>\n",
       "      <td>0</td>\n",
       "      <td>1</td>\n",
       "      <td>0</td>\n",
       "      <td>0</td>\n",
       "      <td>...</td>\n",
       "      <td>0</td>\n",
       "      <td>0</td>\n",
       "      <td>1</td>\n",
       "      <td>0</td>\n",
       "      <td>0</td>\n",
       "      <td>0</td>\n",
       "      <td>0</td>\n",
       "      <td>0</td>\n",
       "      <td>0</td>\n",
       "      <td>0</td>\n",
       "    </tr>\n",
       "    <tr>\n",
       "      <th>4</th>\n",
       "      <td>43</td>\n",
       "      <td>0</td>\n",
       "      <td>49</td>\n",
       "      <td>485</td>\n",
       "      <td>10</td>\n",
       "      <td>0.20</td>\n",
       "      <td>0</td>\n",
       "      <td>1</td>\n",
       "      <td>0</td>\n",
       "      <td>0</td>\n",
       "      <td>...</td>\n",
       "      <td>0</td>\n",
       "      <td>0</td>\n",
       "      <td>0</td>\n",
       "      <td>0</td>\n",
       "      <td>0</td>\n",
       "      <td>0</td>\n",
       "      <td>0</td>\n",
       "      <td>0</td>\n",
       "      <td>0</td>\n",
       "      <td>0</td>\n",
       "    </tr>\n",
       "  </tbody>\n",
       "</table>\n",
       "<p>5 rows × 61 columns</p>\n",
       "</div>"
      ],
      "text/plain": [
       "   age  had_cancer  income_in_k  credit_score  num_credit_sources  \\\n",
       "0   39           0           54           448                   4   \n",
       "1   43           0           66           399                   4   \n",
       "2   42           0           50           509                   8   \n",
       "3   46           0           79           540                   6   \n",
       "4   43           0           49           485                  10   \n",
       "\n",
       "   utilization_rate  gave_loan  Female  Male  Non-Binary  ...  SD  TN  TX  UT  \\\n",
       "0              0.32          0       1     0           0  ...   0   0   1   0   \n",
       "1              0.35          0       1     0           0  ...   0   0   0   0   \n",
       "2              0.23          0       0     1           0  ...   0   0   0   0   \n",
       "3              0.15          0       1     0           0  ...   0   0   1   0   \n",
       "4              0.20          0       1     0           0  ...   0   0   0   0   \n",
       "\n",
       "   VA  VT  WA  WI  WV  WY  \n",
       "0   0   0   0   0   0   0  \n",
       "1   0   0   0   0   0   0  \n",
       "2   0   0   0   0   0   0  \n",
       "3   0   0   0   0   0   0  \n",
       "4   0   0   0   0   0   0  \n",
       "\n",
       "[5 rows x 61 columns]"
      ]
     },
     "execution_count": 178,
     "metadata": {},
     "output_type": "execute_result"
    }
   ],
   "source": [
    "# calculate values for evaluating values\n",
    "\n",
    "# remove gender_id and state column \n",
    "del loanDF[\"gender_id\"]\n",
    "del loanDF[\"state\"]\n",
    "\n",
    "# show new dataframe where the original gender_id and state columns are gone \n",
    "loanDF.head()"
   ]
  },
  {
   "cell_type": "markdown",
   "metadata": {},
   "source": [
    "## Use KFold with 5 folds (use the same KF loop to fit all three models)"
   ]
  },
  {
   "cell_type": "code",
   "execution_count": 180,
   "metadata": {},
   "outputs": [],
   "source": [
    "# predictor values\n",
    "allLoanPred = ['age', 'had_cancer', 'income_in_k', 'credit_score',\n",
    "       'num_credit_sources', 'utilization_rate', 'Female', 'Male',\n",
    "       'Non-Binary', 'Survey Choices Do Not Accurately Reflect My Identity',\n",
    "       'AK', 'AL', 'AR', 'AZ', 'CA', 'CO', 'CT', 'DE', 'FL', 'GA', 'HI', 'IA',\n",
    "       'ID', 'IL', 'IN', 'KS', 'KY', 'LA', 'MA', 'MD', 'ME', 'MI', 'MN', 'MO',\n",
    "       'MS', 'MT', 'NC', 'ND', 'NE', 'NH', 'NJ', 'NM', 'NV', 'NY', 'OH', 'OK',\n",
    "       'OR', 'PA', 'RI', 'SC', 'SD', 'TN', 'TX', 'UT', 'VA', 'VT', 'WA', 'WI',\n",
    "       'WV', 'WY']\n",
    "\n",
    "# list of only continuous variables\n",
    "contPred = ['age', 'income_in_k', 'credit_score', 'num_credit_sources', \n",
    "       'utilization_rate']\n",
    "\n",
    "# store all loan predictors allXVals\n",
    "allX = loanDF[allLoanPred]\n",
    "\n",
    "# store continuous predictors and outcomes in continuousX and y variables\n",
    "contX = loanDF[contPred]\n",
    "y = loanDF[\"gave_loan\"]\n",
    "\n",
    "# create empty kfold object\n",
    "# set argument n_splits to be 5\n",
    "    # this is so it can use 80% of our data\n",
    "kf = KFold(n_splits = 5, shuffle = True)\n",
    "kf.split(allX)\n",
    "\n",
    "# Logistic Regression accuracy lists\n",
    "# create empty lists to store accuracy for each fold of training and test set for log reg\n",
    "trainAccLogisticRegression = []\n",
    "testAccLogisticRegression = []\n",
    "\n",
    "# Decision Tree accuracy lists\n",
    "# create empty lists to store accuracy for each fold of training and test set and model \n",
    "       # accuracy and depth for decision tree\n",
    "trainAccDecisionTree = []\n",
    "testAccDecisionTree = []\n",
    "modelAccDecisionTree = []\n",
    "depth = []\n",
    "\n",
    "# KNN accuracy lists\n",
    "# create empty lists to store train and test set accuracy for KNN \n",
    "trainAccKNN = []\n",
    "testAccKNN = []\n",
    "\n",
    "# create log reg model\n",
    "loanLogModel = LogisticRegression() "
   ]
  },
  {
   "cell_type": "markdown",
   "metadata": {},
   "source": [
    "## Use KFold with 5 folds (use the same KF loop to fit all three models)\n",
    "## Z-score your continuous variables only (interval data like age...etc can be counted as continuous)\n",
    "## For KNN, include only *continuous/interval* columns as predictors. For Decision Tree and Logistic Regression use ALL columns (other than `gave_loan`).\n",
    "## For KNN, choose K by using grid search.\n",
    "## For Decision Trees, set the `max_depth` if overfitting.\n",
    "## Record the Train/Test accuracies, and print out confusion matrices."
   ]
  },
  {
   "cell_type": "code",
   "execution_count": 185,
   "metadata": {},
   "outputs": [
    {
     "data": {
      "image/png": "[encoded data removed]",
      "text/plain": [
       "<Figure size 432x288 with 2 Axes>"
      ]
     },
     "metadata": {
      "needs_background": "light"
     },
     "output_type": "display_data"
    },
    {
     "data": {
      "image/png": "[encoded data removed]",
      "text/plain": [
       "<Figure size 432x288 with 2 Axes>"
      ]
     },
     "metadata": {
      "needs_background": "light"
     },
     "output_type": "display_data"
    },
    {
     "data": {
      "image/png": "[encoded data removed]",
      "text/plain": [
       "<Figure size 432x288 with 2 Axes>"
      ]
     },
     "metadata": {
      "needs_background": "light"
     },
     "output_type": "display_data"
    },
    {
     "data": {
      "image/png": "[encoded data removed]",
      "text/plain": [
       "<Figure size 432x288 with 2 Axes>"
      ]
     },
     "metadata": {
      "needs_background": "light"
     },
     "output_type": "display_data"
    },
    {
     "data": {
      "image/png": "[encoded data removed]",
      "text/plain": [
       "<Figure size 432x288 with 2 Axes>"
      ]
     },
     "metadata": {
      "needs_background": "light"
     },
     "output_type": "display_data"
    },
    {
     "data": {
      "image/png": "[encoded data removed]",
      "text/plain": [
       "<Figure size 432x288 with 2 Axes>"
      ]
     },
     "metadata": {
      "needs_background": "light"
     },
     "output_type": "display_data"
    },
    {
     "data": {
      "image/png": "[encoded data removed]",
      "text/plain": [
       "<Figure size 432x288 with 2 Axes>"
      ]
     },
     "metadata": {
      "needs_background": "light"
     },
     "output_type": "display_data"
    },
    {
     "data": {
      "image/png": "[encoded data removed]",
      "text/plain": [
       "<Figure size 432x288 with 2 Axes>"
      ]
     },
     "metadata": {
      "needs_background": "light"
     },
     "output_type": "display_data"
    },
    {
     "data": {
      "image/png": "[encoded data removed]",
      "text/plain": [
       "<Figure size 432x288 with 2 Axes>"
      ]
     },
     "metadata": {
      "needs_background": "light"
     },
     "output_type": "display_data"
    },
    {
     "data": {
      "image/png": "[encoded data removed]",
      "text/plain": [
       "<Figure size 432x288 with 2 Axes>"
      ]
     },
     "metadata": {
      "needs_background": "light"
     },
     "output_type": "display_data"
    },
    {
     "data": {
      "image/png": "[encoded data removed]",
      "text/plain": [
       "<Figure size 432x288 with 2 Axes>"
      ]
     },
     "metadata": {
      "needs_background": "light"
     },
     "output_type": "display_data"
    },
    {
     "data": {
      "image/png": "[encoded data removed]",
      "text/plain": [
       "<Figure size 432x288 with 2 Axes>"
      ]
     },
     "metadata": {
      "needs_background": "light"
     },
     "output_type": "display_data"
    },
    {
     "data": {
      "image/png": "[encoded data removed]",
      "text/plain": [
       "<Figure size 432x288 with 2 Axes>"
      ]
     },
     "metadata": {
      "needs_background": "light"
     },
     "output_type": "display_data"
    },
    {
     "data": {
      "image/png": "[encoded data removed]",
      "text/plain": [
       "<Figure size 432x288 with 2 Axes>"
      ]
     },
     "metadata": {
      "needs_background": "light"
     },
     "output_type": "display_data"
    },
    {
     "data": {
      "image/png": "[encoded data removed]",
      "text/plain": [
       "<Figure size 432x288 with 2 Axes>"
      ]
     },
     "metadata": {
      "needs_background": "light"
     },
     "output_type": "display_data"
    }
   ],
   "source": [
    "# Use KFold with 5 folds (use the same KF loop to fit all three models)\n",
    "\n",
    "# for loop that will loop through each of the models we will create\n",
    "# the train and test that are referenced in the for loop are the indices of the rows that are\n",
    "    # going to be our training set and the rows that will be in our testing set respecively\n",
    "\n",
    "for train_indices, test_indices in kf.split(allX,y):\n",
    "    X_train = allX.iloc[train_indices]\n",
    "    X_test  = allX.iloc[test_indices]\n",
    "    y_train = y.iloc[train_indices]\n",
    "    y_test  = y.iloc[test_indices]\n",
    "\n",
    "    #############\n",
    "\n",
    "    # Logistic Regression\n",
    "\n",
    "    # Z-score your continuous variables only\n",
    "    # preprocessing by z-scoring\n",
    "    # avoid data leakage bc if we z-score incorrectly, it can cause info from test set to leak into model\n",
    "    zscore = StandardScaler()\n",
    "\n",
    "    # ONLY FIT ON TRAINING SET\n",
    "    # transform train and test set to get the actual z-score \n",
    "    Xz_train = zscore.fit_transform(X_train[contPred])\n",
    "    Xz_test = zscore.transform(X_test[contPred])\n",
    "\n",
    "    X_train[contPred] = Xz_train\n",
    "    X_test[contPred] = Xz_test\n",
    "\n",
    "    # For Logistic Regression use ALL columns as predictors\n",
    "\n",
    "    # log reg model\n",
    "    logRegFitModel = loanLogModel.fit(X_train, y_train)\n",
    "\n",
    "    # Record the Train/Test accuracies\n",
    "    trainAccLogisticRegression.append(accuracy_score(y_train, logRegFitModel.predict(X_train)))\n",
    "    testAccLogisticRegression.append(accuracy_score(y_test, logRegFitModel.predict(X_test)))  \n",
    "\n",
    "    # Print out confusion matrices\n",
    "    # log reg confusion matrix\n",
    "    plot_confusion_matrix(loanLogModel, X_test, y_test).ax_.set_title(\"Logistic Regression\")\n",
    "\n",
    "    #############\n",
    "\n",
    "    # Decision Tree\n",
    "\n",
    "    # For Decision Trees, set the max_depth if overfitting\n",
    "\n",
    "    # decision tree model    \n",
    "    tree = DecisionTreeClassifier(max_depth = 5)\n",
    "\n",
    "    # For Decision Tree use ALL columns as predictors\n",
    "\n",
    "    # fitting tree model \n",
    "    treeModelFit = tree.fit(X_train,y_train)\n",
    "\n",
    "    modelAccDecisionTree.append(treeModelFit.score(X_test,y_test))\n",
    "    depth.append(treeModelFit.get_depth())\n",
    "\n",
    "    # Record the Train/Test accuracies\n",
    "    trainAccDecisionTree = accuracy_score(y_train,treeModelFit.predict(X_train))\n",
    "    testAccDecisionTree = accuracy_score(y_test,treeModelFit.predict(X_test))\n",
    "\n",
    "    # Print out confusion matrices\n",
    "    # decision tree confusion matrix\n",
    "    plot_confusion_matrix(treeModelFit, X_test, y_test).ax_.set_title(\"Decision Tree\")\n",
    "\n",
    "    #############\n",
    "    \n",
    "    # KNN\n",
    "\n",
    "    # For KNN, choose K by using grid search\n",
    "\n",
    "    # knn model grid search\n",
    "    knnGridSearch = KNeighborsClassifier()\n",
    "    # choose potential values of k (ranges from 1 to 30)\n",
    "    ks = {\"n_neighbors\": range(1,30)}\n",
    "    # use grid search to find best parameters\n",
    "    grid = GridSearchCV(knnGridSearch,ks, scoring = \"accuracy\", cv = 5)\n",
    "    knnmod = grid.fit(X_train, y_train)\n",
    "    n_neighbors = knnmod.best_estimator_.get_params()[\"n_neighbors\"]\n",
    "\n",
    "    # knn model\n",
    "    knn = KNeighborsClassifier(n_neighbors = n_neighbors)\n",
    "\n",
    "    # preprocessing by z-scoring\n",
    "    z = StandardScaler()\n",
    "\n",
    "    # only continuous X values\n",
    "    X_train_cont = X_train[contPred]\n",
    "    X_test_cont = X_test[contPred]\n",
    "\n",
    "    # z-scoring variables\n",
    "    Xz_train_cont = z.fit_transform(X_train_cont)\n",
    "    # NEVER REFIT ON TEST SET, ONLY TRANSFORM\n",
    "    Xz_test_cont = z.transform(X_test_cont)\n",
    "\n",
    "    # For KNN, include only continuous/interval columns as predictors\n",
    "\n",
    "    # fitting knn model \n",
    "    knnModelFit = knn.fit(Xz_train_cont,y_train)\n",
    "    \n",
    "    # Record the Train/Test accuracies\n",
    "    trainAccKNN = accuracy_score(y_train,knnModelFit.predict(Xz_train_cont))\n",
    "    testAccKNN = accuracy_score(y_test,knnModelFit.predict(Xz_test_cont))\n",
    "\n",
    "    # Print out confusion matrices\n",
    "    # KNN confusion matrix\n",
    "    plot_confusion_matrix(knnModelFit, Xz_test_cont, y_test).ax_.set_title(\"KNN\")\n",
    "\n",
    "    #############\n",
    "\n",
    "    "
   ]
  },
  {
   "cell_type": "code",
   "execution_count": 35,
   "metadata": {},
   "outputs": [
    {
     "name": "stdout",
     "output_type": "stream",
     "text": [
      "Logistic Regression Train Accuracy 0.7348750000000001\n",
      "Logistic Regression Test Accuracy 0.73275\n"
     ]
    }
   ],
   "source": [
    "# logistic regression test/train accuracy\n",
    "print(\"Logistic Regression Train Accuracy\", np.mean(trainAccLogisticRegression))\n",
    "print(\"Logistic Regression Test Accuracy\", np.mean(testAccLogisticRegression))"
   ]
  },
  {
   "cell_type": "code",
   "execution_count": 36,
   "metadata": {},
   "outputs": [
    {
     "name": "stdout",
     "output_type": "stream",
     "text": [
      "Decision Tree Train Accuracy 0.750625\n",
      "Decision Tree Test Accuracy 0.715\n"
     ]
    }
   ],
   "source": [
    "# decision tree test/train accuracy\n",
    "print(\"Decision Tree Train Accuracy\", np.mean(trainAccDecisionTree))\n",
    "print(\"Decision Tree Test Accuracy\",np.mean(testAccDecisionTree))"
   ]
  },
  {
   "cell_type": "code",
   "execution_count": 37,
   "metadata": {},
   "outputs": [
    {
     "name": "stdout",
     "output_type": "stream",
     "text": [
      "Decision Tree Model Accuracy 0.71875\n",
      "Decision Tree depth 5.0\n"
     ]
    }
   ],
   "source": [
    "print(\"Decision Tree Model Accuracy\", np.mean(modelAccDecisionTree))\n",
    "print(\"Decision Tree depth\", np.mean(depth))"
   ]
  },
  {
   "cell_type": "code",
   "execution_count": 38,
   "metadata": {},
   "outputs": [
    {
     "name": "stdout",
     "output_type": "stream",
     "text": [
      "KNN Train Accuracy 0.739375\n",
      "KNN Train Accuracy 0.73375\n"
     ]
    }
   ],
   "source": [
    "# knn test+train accuracy \n",
    "print(\"KNN Train Accuracy\", np.mean(trainAccKNN))\n",
    "print(\"KNN Train Accuracy\", np.mean(testAccKNN))"
   ]
  },
  {
   "cell_type": "markdown",
   "metadata": {},
   "source": [
    "# 2. Evaluate Your Models"
   ]
  },
  {
   "cell_type": "markdown",
   "metadata": {},
   "source": [
    "## A) Using accuracy and confusion matrices, which model did best, how can you tell?"
   ]
  },
  {
   "cell_type": "markdown",
   "metadata": {},
   "source": [
    "All 3 mdoels performed quite similarly to each other based on each of their accuracy scores. They performed in the range of 0.715 to 0.735 which is pretty good, but could be better. Since the accuracy scores for the test and train sets for all 3 models are similar, there is not really one model that can be considered the best compared to the other models. \n",
    "\n",
    "Even the confusion matrices for all 3 models are quite similar because in all 3 models, it is making alot more errors predicting a person has not gotten a loan when they have. It is also predicting whether a person has not gotten a loan more and rarely predicting when they have gotten a loan. This type of prediction is creating an imbalance on the off diagonal. Our models would be performing much better if it was making more accurate predictions when the predicted value is 1 (meaning the person has gotten a loan), and the true value would also be 1. Same goes for when predciting a person hasn't gotten a loan, and correspondinly more of the true values of the predictions will also be 0 (a person hasn't gotten a loan). However, when looking at the confusion matrix, we can see that the model can accurately predict for when a person hasn't gotten a loan, but is less accurate when it comes to predicting if a person has gotten a loan.\n",
    "\n",
    "If we had to pick the best model, it would probably be logistic regression and KNN because their train set accuracy was the closest to their test set accuracies. Meaning, they were the least overfit. Because the decision tree's train accuracy was 0.750625 and test accuracy was 0.715, it was more overfit that the other 2 models. This means that the model is too atuned to the training set's data and is not equipped to accurately predict values for unseen data.\n",
    "\n",
    "All of the models have test accuracies that range from 0.715 to 0.735, which tells us that the model is not performing too well, but also not too poorly. This may be due to maybe these 3 models not being the best models to train on this data set. However, these models might not be performing too poorly either because all 3 are not too overfit, so it does perform well when introduced to new unseen data."
   ]
  },
  {
   "cell_type": "markdown",
   "metadata": {},
   "source": [
    "## B) Are there differences in how well the three models you made in part 1 do for different gender IDs? (do not make new models, use the models from before)"
   ]
  },
  {
   "cell_type": "code",
   "execution_count": 186,
   "metadata": {},
   "outputs": [],
   "source": [
    "# z-scoring continuous variables\n",
    "zsLogPred = zscore.transform(loanDF[contPred])\n",
    "\n",
    "# replacing the previous continuous variables with z-scored data in loan data frame\n",
    "loanDF[contPred] = zsLogPred\n",
    "\n",
    "# For KNN, include only continuous/interval columns as predictors\n",
    "# For Decision Tree and Logistic Regression use ALL columns\n",
    "# using z-scored data for log reg bc we trained on z-scored variables\n",
    "logisticRegressionPreds = logRegFitModel.predict(loanDF[allLoanPred]) \n",
    "decisionTreePreds = treeModelFit.predict(loanDF[allLoanPred]) \n",
    "knnPreds = knnModelFit.predict(loanDF[contPred])\n",
    "\n",
    "loanDF[\"Logistic Regression Predicted Values\"] = logisticRegressionPreds\n",
    "loanDF[\"Decision Tree Predicted Values\"] = decisionTreePreds\n",
    "loanDF[\"KNN Predicted Values\"] = knnPreds"
   ]
  },
  {
   "cell_type": "code",
   "execution_count": 187,
   "metadata": {},
   "outputs": [
    {
     "name": "stdout",
     "output_type": "stream",
     "text": [
      "Male Logistic Regression Accuracy Score:  0.7228464419475655\n",
      "Female Logistic Regression Accuracy Score:  0.7405590975968612\n",
      "Non Binary Logistic Regression Accuracy Score:  0.7678571428571429\n",
      "Survey Choices Do Not Accurately Reflect My Identity Logistic Regression Accuracy Score:  0.8055555555555556\n"
     ]
    }
   ],
   "source": [
    "# Logistic Regression Gender ID\n",
    "\n",
    "maleLogReg = loanDF.loc[loanDF[\"Male\"] == 1]\n",
    "maleLogRegAcc = accuracy_score(maleLogReg[\"gave_loan\"], maleLogReg[\"Logistic Regression Predicted Values\"])\n",
    "print(\"Male Logistic Regression Accuracy Score: \", maleLogRegAcc)\n",
    "\n",
    "femaleLogReg = loanDF.loc[loanDF[\"Female\"] == 1]\n",
    "femaleLogRegAcc = accuracy_score(femaleLogReg[\"gave_loan\"], femaleLogReg[\"Logistic Regression Predicted Values\"])\n",
    "print(\"Female Logistic Regression Accuracy Score: \", femaleLogRegAcc)\n",
    "\n",
    "nonBinaryLogReg = loanDF.loc[loanDF[\"Non-Binary\"] == 1]\n",
    "nonBinaryLogRegAcc = accuracy_score(nonBinaryLogReg[\"gave_loan\"], nonBinaryLogReg[\"Logistic Regression Predicted Values\"])\n",
    "print(\"Non Binary Logistic Regression Accuracy Score: \", nonBinaryLogRegAcc)\n",
    "\n",
    "surveyLogReg = loanDF.loc[loanDF[\"Survey Choices Do Not Accurately Reflect My Identity\"] == 1]\n",
    "surveyLogRegAcc = accuracy_score(surveyLogReg[\"gave_loan\"], surveyLogReg[\"Logistic Regression Predicted Values\"])\n",
    "print(\"Survey Choices Do Not Accurately Reflect My Identity Logistic Regression Accuracy Score: \", surveyLogRegAcc)"
   ]
  },
  {
   "cell_type": "code",
   "execution_count": 169,
   "metadata": {},
   "outputs": [
    {
     "name": "stdout",
     "output_type": "stream",
     "text": [
      "Male Decision Tree Accuracy Score:  0.7228464419475655\n",
      "Female Decision Tree Accuracy Score:  0.7405590975968612\n",
      "Non Binary Decision Tree Accuracy Score:  0.7678571428571429\n",
      "Survey Choices Do Not Accurately Reflect My Identity Decision Tree Accuracy Score:  0.8055555555555556\n"
     ]
    }
   ],
   "source": [
    "# Decision Tree Gender ID\n",
    "\n",
    "maleTree = loanDF.loc[loanDF[\"Male\"] == 1]\n",
    "maleTreeAcc = accuracy_score(maleTree[\"gave_loan\"], maleTree[\"Decision Tree Predicted Values\"])\n",
    "print(\"Male Decision Tree Accuracy Score: \", maleTreeAcc)\n",
    "\n",
    "femaleTree = loanDF.loc[loanDF[\"Female\"] == 1]\n",
    "femaleTreeAcc = accuracy_score(femaleTree[\"gave_loan\"], femaleTree[\"Decision Tree Predicted Values\"])\n",
    "print(\"Female Decision Tree Accuracy Score: \", femaleTreeAcc)\n",
    "\n",
    "nonBinaryTree = loanDF.loc[loanDF[\"Non-Binary\"] == 1]\n",
    "nonBinaryTreeAcc = accuracy_score(nonBinaryTree[\"gave_loan\"], nonBinaryTree[\"Decision Tree Predicted Values\"])\n",
    "print(\"Non Binary Decision Tree Accuracy Score: \", nonBinaryTreeAcc)\n",
    "\n",
    "surveyTree = loanDF.loc[loanDF[\"Survey Choices Do Not Accurately Reflect My Identity\"] == 1]\n",
    "surveyTreeAcc = accuracy_score(surveyTree[\"gave_loan\"], surveyTree[\"Decision Tree Predicted Values\"])\n",
    "print(\"Survey Choices Do Not Accurately Reflect My Identity Decision Tree Accuracy Score: \", surveyTreeAcc)"
   ]
  },
  {
   "cell_type": "code",
   "execution_count": 170,
   "metadata": {},
   "outputs": [
    {
     "name": "stdout",
     "output_type": "stream",
     "text": [
      "Male Decision Tree Accuracy Score:  0.7228464419475655\n",
      "Female Decision Tree Accuracy Score:  0.7405590975968612\n",
      "Non Binary Decision Tree Accuracy Score:  0.7678571428571429\n",
      "Survey Choices Do Not Accurately Reflect My Identity Decision Tree Accuracy Score:  0.8055555555555556\n"
     ]
    }
   ],
   "source": [
    "# KNN Gender ID\n",
    "\n",
    "maleKNN = loanDF.loc[loanDF[\"Male\"] == 1]\n",
    "maleKNNAcc = accuracy_score(maleKNN[\"gave_loan\"], maleKNN[\"KNN Predicted Values\"])\n",
    "print(\"Male Decision Tree Accuracy Score: \", maleKNNAcc)\n",
    "\n",
    "femaleKNN = loanDF.loc[loanDF[\"Female\"] == 1]\n",
    "femaleKNNAcc = accuracy_score(femaleKNN[\"gave_loan\"], femaleKNN[\"KNN Predicted Values\"])\n",
    "print(\"Female Decision Tree Accuracy Score: \", femaleKNNAcc)\n",
    "\n",
    "nonBinaryKNN = loanDF.loc[loanDF[\"Non-Binary\"] == 1]\n",
    "nonBinaryKNNAcc = accuracy_score(nonBinaryKNN[\"gave_loan\"], nonBinaryKNN[\"KNN Predicted Values\"])\n",
    "print(\"Non Binary Decision Tree Accuracy Score: \", nonBinaryKNNAcc)\n",
    "\n",
    "surveyKNN = loanDF.loc[loanDF[\"Survey Choices Do Not Accurately Reflect My Identity\"] == 1]\n",
    "surveyKNNAcc = accuracy_score(surveyKNN[\"gave_loan\"], surveyKNN[\"KNN Predicted Values\"])\n",
    "print(\"Survey Choices Do Not Accurately Reflect My Identity Decision Tree Accuracy Score: \", surveyKNNAcc)"
   ]
  },
  {
   "cell_type": "markdown",
   "metadata": {},
   "source": [
    "B) Are there differences in how well the three models you made in part 1 do for different gender IDs? (do not make new models, use the models from before)\n",
    "\n",
    "There is not much difference in how well the 3 models performed. As expected, all 3 of the models performed with about the same accuracy given the different gender id's because all 3 models performed around the same with their overall accrucy scores being between 0.72 to 0.74, as we saw in Part 1. Since the accuracy scores for each of the models is within the ranges of 0.72 and 0.74, when predicting for the different gender ID's, the models would theoretically predict with about the same accuracy, which it is. \n",
    "\n",
    "The logistic regression, decision tree and KNN model perform much pretty high for different gender ID's ranging from accuracy scores of 0.72 to 0.81. All 3 models perform considerably well on whether a person got a loan depending on their gender id. This may be because in the case of the decision tree, since it iteratively adds layers to the tree and checks to see if the split we make on a category improves the ability to predict the right category, it will move on and coninue with the split. Doing this improves the performance of predicting what data point belongs to what category.\n",
    "\n",
    "The logistic regression model is also performing similarly well becuase since the data was being predicted fairly well as a log model with all of the data points, the gender ID's would be following the same model graph, predicting in the same way as other data points.\n",
    "\n",
    "In a knn model, the model assumes that if the specific data point neighbors are similar to other data points with respect to the features that we are choosing, the data point will have the same category as them. It looks at all the data points that are near the current data point based on the values of the different features. Since it operates on the assumption that if you are near other data points in the category, the model will put you in that category. Hence, the gender ID's and whether they recived or didn't recieve a loan are categorized based on their neighboring data points and their categorical features. \n",
    "\n",
    "Since all 3 models are more accuratly predicting for loans given to a person where the survey choices do not accurately reflect their identity (with an accuracy score of about 0.81) than the other gender ID's, the implications of this might be that for most people who do not identify with the ID's in the survey, they will get a more accurate prediction for if they got a loan or not. Meaning, they will receive better service depending on if they got a loan or didn't. However, since all 3 models also did not as well with predicting for Males and Females (with an accuracy score of about 0.72 and 0.74) as they did for the people who did not identify with the ID's in the survey, there might be some inaccuracies and biases against these 2 gender ID's. This means that they will not receive the as much of a proper service as the people who did not identify with the ID's in regards to getting a loan."
   ]
  },
  {
   "cell_type": "markdown",
   "metadata": {},
   "source": [
    "## C) Are your models better at predicting people who got loans, or didn't get loans? How can you tell? What are the possible implications of this?"
   ]
  },
  {
   "cell_type": "markdown",
   "metadata": {},
   "source": [
    "Based on the confusion matrices, we can deduce that the model can accurately predict for when a person hasn't gotten a loan, but is less accurate when it comes to predicting if a person hasn't gotten a loan for all 3 models. Because all 3 models have an imbalanced off diagonal, predicting a majority of true negatives and false negatives, the model better predicts people who got loans. It is also predicting whether a person has not gotten a loan more and rarely predicting when they have gotten a loan.\n",
    "\n",
    "The implications of this might be that the model do not perform well when it has to predict for someone who got a loan. This could also mean that the 3 models we are using on this data set isn't ideal types that we used on this data set is just not ideal"
   ]
  }
 ],
 "metadata": {
  "hide_input": false,
  "interpreter": {
   "hash": "492c417cf4bd3d8ef83c2c7271d2b849cb89ee688160599385917934fff29a93"
  },
  "kernelspec": {
   "display_name": "Python 3.7.4 64-bit ('venv': venv)",
   "name": "python3"
  },
  "language_info": {
   "codemirror_mode": {
    "name": "ipython",
    "version": 3
   },
   "file_extension": ".py",
   "mimetype": "text/x-python",
   "name": "python",
   "nbconvert_exporter": "python",
   "pygments_lexer": "ipython3",
   "version": "3.7.4"
  },
  "toc": {
   "base_numbering": 1,
   "nav_menu": {},
   "number_sections": true,
   "sideBar": true,
   "skip_h1_title": false,
   "title_cell": "Table of Contents",
   "title_sidebar": "Contents",
   "toc_cell": false,
   "toc_position": {},
   "toc_section_display": true,
   "toc_window_display": false
  }
 },
 "nbformat": 4,
 "nbformat_minor": 4
}
