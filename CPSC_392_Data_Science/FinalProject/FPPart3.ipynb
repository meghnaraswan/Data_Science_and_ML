{
 "cells": [
  {
   "cell_type": "markdown",
   "metadata": {},
   "source": [
    "# Final Project"
   ]
  },
  {
   "cell_type": "markdown",
   "metadata": {},
   "source": [
    "### **3.**\n",
    "\n",
    "(**27 points**; Due Monday November 29th RIGHT BEFORE CLASS (if you do not have class on Monday it is due at 11:59pm); PDF) Now put on your data scientist hat. Write an **ORGANIZED analysis plan** to answer **3** of the questions you came up with. Think about which of the questions need a predictive model, which need a clustering model, which need dimensionality reduction, and which maybe need just visualizations/summaries. (at the top of this document, provide a short description of each of the variables in the model)\n",
    "\n",
    "*YOU MUST USE at least 1 supervised learning model, 1 clustering model and 1 instance of dimensionality reduction (two or more of these could be used to answer the same question)*.\n",
    "\n",
    "Write up this plan as if you're submitting it to a company to tell them what you're planning to do. CLEARLY mark where each part (a-c) is and answer each part separately. For **each** question you need to:\n",
    "\n",
    "<ul>\n",
    "    <li> a) describe the analysis you're planning (include details like whether you're using standardization, regularization, model validation, distance/similarity metrics, how you'll choose clusters or hyperparameters, which variables you're using...etc)\n",
    "    <li> b) explain <b>why</b> this analysis and the choices you described above are good and explicitly <b>how</b> these methods will answer the question.\n",
    "    <li> c) describe <b>two</b> ggplot data visualizations you'll use to support your answers (graphs must be in ggplot, the ONLY acception is a dendrogram for HAC). \n",
    "</ul>"
   ]
  },
  {
   "cell_type": "markdown",
   "metadata": {},
   "source": [
    "According to [What Makes a Song Likeable?](https://towardsdatascience.com/what-makes-a-song-likeable-dbfdb7abe404)\n",
    "\n",
    "- name: name of the song\n",
    "- duration_ms: The duration of the track in milliseconds\n",
    "- track_number: what number the song is in the playlist\n",
    "- danceability: describes how suitable a track is for dancing based on a combination of musical elements including tempo, rhythm stability, beat strength, and overall regularity\n",
    "- energy: represents a perceptual measure of intensity and activity. Typically, energetic tracks feel fast, loud, and noisy. For example, death metal has high energy, while a Bach prelude scores low on the scale\n",
    "- key: the estimated overall key of the track. Integers map to pitches using standard Pitch Class notation . E.g. 0 = C, 1 = C♯/D♭, 2 = D, and so on.\n",
    "- loudness: the overall loudness of a track in decibels (dB). Loudness values are averaged across the entire track and are useful for comparing relative loudness of tracks.\n",
    "- mode: indicates the modality (major or minor) of a track, the type of scale from which its melodic content is derived. Major is represented by 1 and minor is 0.\n",
    "- speechiness: detects the presence of spoken words in a track. The more exclusively speech-like the recording (e.g. talk show, audio book, poetry), the closer to 1.0 the attribute value.\n",
    "- acousticness: a confidence measure from 0.0 to 1.0 of whether the track is acoustic.\n",
    "- instrumentalness: predicts whether a track contains no vocals. “Ooh” and “aah” sounds are treated as instrumental in this context. Rap or spoken word tracks are clearly “vocal”.\n",
    "- liveness: the presence of an audience in the recording. Higher liveness values represent an increased probability that the track was performed live.\n",
    "- valence: describes the musical positiveness conveyed by a track. Tracks with high valence sound more positive (e.g. happy, cheerful, euphoric), while tracks with low valence sound more negative (e.g. sad, depressed, angry)\n",
    "- tempo: the overall estimated tempo of a track in beats per minute (BPM). In musical terminology, tempo is the speed or pace of a given piece, and derives directly from the average beat duration.\n",
    "- type: type of attribute we are looking at (audio features)\n",
    "- id: track id\n",
    "- uri: a unique identifier (link) of a song, album or playlist found in the Share menu\n",
    "- track_href: this attribute specifies the URL of the page the link goes to\n",
    "- analysis_url: playlist information in json format\n",
    "- time_signature: An estimated overall time signature of a track. The time signature (meter) is a notational convention to specify how many beats are in each bar (or measure)."
   ]
  },
  {
   "cell_type": "markdown",
   "metadata": {},
   "source": [
    "1. Journalist Miriam Quick performed an investigation to identify the saddest and the happiest songs ever listed on the top of the Billboard singles chart. To conduct this investigaiton, Quick used numerical parameters of valence and energy, provided by the Spotify Web API. Spotify's internal algorithm measures valence from 0 to 1 based on positive or negative moods, while energy, which is also measured from 0 to 1, indicates how lively and dynamic a song is. As we can see in the scatterplot below, Quick splits the graph into 4 quadrants of mood (Happy, Angry, Calm and Sad) based on the valence and energy of each song. Based on this investigation, would **Gaussian Mixture Models (EM)** be able to accurately cluster the data into the 4 quadrants of mood given the `valence` and `energy`? If not, what other assumptions can we make of the clusters (meaning what characterizes each cluster)?\n",
    "\n",
    "    a) describe the analysis you're planning (include details like whether you're using standardization, regularization, model validation, distance/similarity metrics, how you'll choose clusters or hyperparameters, which variables you're using...etc)\n",
    "    - I will be using the **Gaussian Mixture Models (EM)** clustering algorithm because it will use soft assignments for each of the data points, meaning that it assigns each data point a probability of being assigned to each cluster.\n",
    "    - I will choose 4 components as the hyperparameters because in order to see if the algorithm follows the same trend of 4 quadrants of mood (Happy, Angry, Calm and Sad) as Quick's analysis, I would like to see how the algorithm would categorize the data given having to make 4 clusters.\n",
    "\n",
    "    b) explain <b>why</b> this analysis and the choices you described above are good and explicitly <b>how</b> these methods will answer the question.\n",
    "    - In this case, this would be beneficial because since **Gaussian Mixture Models (with EM)** assumes that the clusters are elliptical, the clustering algorithms will be able to cluster specific categories with more felxibility.\n",
    "    - The clusters that have more of a spread will use probabilistic assignments that would help assign the data points in the clusters it is proabable to be in.\n",
    "    - Using **Gaussian Mixture Model's** elliptical clusters will give us an idea if the probability of the data points that are assigned to each cluster follow Miriam Quick's 4 quadrants of mood trend.\n",
    "\n",
    "    c) describe <b>two</b> ggplot data visualizations you'll use to support your answers (graphs must be in ggplot, the ONLY acception is a dendrogram for HAC). \n",
    "    - I will create a scatterplot to check the linearity assumption for `valence` and `energy` to see what the relationship is between the two variables.\n",
    "    - I will create another scatterplot to plot all of the tracks and then use the 4 components from the clustering model to categorize which data points fall into which cluster.\n",
    "\n",
    "2. What is the relationship between `valence` and `energy`? Is the relationship between those two variables different for the `mode` of each track? How can you tell? What can we infer about the relationship between `valence` and `energy` of a song given its `mode`? Meaning, what can we say about a track's 4 quadrants of mood (Happy, Angry, Calm and Sad) based on the relationship between `valence` and `energy` of a song given its `mode`?\n",
    "\n",
    "    a) describe the analysis you're planning (include details like whether you're using standardization, regularization, model validation, distance/similarity metrics, how you'll choose clusters or hyperparameters, which variables you're using...etc)\n",
    "    - We will be using `valence`, `energy` and `mode` to create a scatterplot to see the realtionship between all 3 variables.\n",
    "\n",
    "    b) explain <b>why</b> this analysis and the choices you described above are good and explicitly <b>how</b> these methods will answer the question.\n",
    "    - Referring to the first question, I would like to see if `mode` has any relationship with `valence` and `energy` given the clusters that were made by the **Gaussian Mixture Models (with EM)**.\n",
    "    - If it does, then I am curious to see what this says about the mode of the songs in each given cluster and how it would change the interpretation of each cluster.\n",
    "\n",
    "    c) describe <b>two</b> ggplot data visualizations you'll use to support your answers (graphs must be in ggplot, the ONLY acception is a dendrogram for HAC). \n",
    "    - I will first create a scatterplot to see the relationship between `valence` and `energy`.\n",
    "    - I will create another scatterplot factoring or color coding the 2 modes to see if there is a relationship between between `valence` and `energy` of a song given its `mode`.\n",
    "\n",
    "3. Using **Logistic Regression Model**, predict the `mode` (major or minor) of each track. With **Logistic Regression Model**, record the MSE/R2 for both training/test sets. Discuss the performance of the model. Build a NEW **Logistic Regression Model**, but using **PCA**. Fit your model using the components you found using a scree plot and record the MSE/R2 for both training/test sets. Discuss how the performance of the model built using **PCA** differs from the model built just using **Logistic Regression Model**.\n",
    "\n",
    "    a) describe the analysis you're planning (include details like whether you're using standardization, regularization, model validation, distance/similarity metrics, how you'll choose clusters or hyperparameters, which variables you're using...etc)\n",
    "    - I will use a 10 fold cross validation for my model validation. Then I will store both the train and test accuracies (MSE/R2) to check for overfitting.\n",
    "    - I will also print out a confusion matrix to tell us how well the model is performing.\n",
    "    - Then I will do the same steps when building another **Logistic Regression Model**, but using **PCA**.\n",
    "    - Using a scree plot, this will tell us the number of factors (x-axis) and eigenvalues (y-axis). In this model, the x-axis tells us the number of principal components to use.\n",
    "    - I will then record the MSE/R2 for both training/test sets for the new model.\n",
    "    - This will help us compare the **Logistic Regression Model** without using **PCA** and **Logistic Regression Model**  using **PCA**.\n",
    "\n",
    "    b) explain <b>why</b> this analysis and the choices you described above are good and explicitly <b>how</b> these methods will answer the question.\n",
    "    - **PCA** is a way of rotating the axes of the data to take advantage of the relationships between different variables and create a new set of axes that is very efficient at describing the variation in the data. It is efficient because we are only retaining a handful of our principal components and still covering almost all the information from the original data. \n",
    "    - Therefore, looking at the scree plot, we can identify how much of the information was retained in the model while using fewer variables. \n",
    "    - This can tell us the relationships between each of the audio features.\n",
    "    - It might be better for us to use less audio features that are not necessary to the relationship between other audio features. Meaning, it might get rid of unnecessary variables that do not have a significant relationship to the other variables. \n",
    "    - Instead of having so many audio features with a slight relationship, can the new sets of axes describe the variation better than before?\n",
    "\n",
    "    c) describe <b>two</b> ggplot data visualizations you'll use to support your answers (graphs must be in ggplot, the ONLY acception is a dendrogram for HAC). \n",
    "    - The explained variance will grab for each of the different components how much variance that specific component accounts for. We can use the elbow method on the explained variance scree plot to to look for the point of inflection on the graph. The point of inflection can tell us up until what components we can keep.\n",
    "    - Since priciniple components analysis orders the priciniple components from most to least variability explained, cumulative variance will tell us how much variance does the first few components account for total. Graphing a cumulative variance scree plot can tell us what the first component is where the cumulative variance exceeds our threshhold (of maybe 90%)."
   ]
  }
 ],
 "metadata": {
  "language_info": {
   "name": "python"
  },
  "orig_nbformat": 4
 },
 "nbformat": 4,
 "nbformat_minor": 2
}
